{
  "nbformat": 4,
  "nbformat_minor": 0,
  "metadata": {
    "colab": {
      "name": "Untitled10.ipynb",
      "provenance": [],
      "authorship_tag": "ABX9TyNF2f9NWAR7F8SR2tDRbxt0",
      "include_colab_link": true
    },
    "kernelspec": {
      "name": "python3",
      "display_name": "Python 3"
    },
    "language_info": {
      "name": "python"
    }
  },
  "cells": [
    {
      "cell_type": "markdown",
      "metadata": {
        "id": "view-in-github",
        "colab_type": "text"
      },
      "source": [
        "<a href=\"https://colab.research.google.com/github/MythicalStack/Data-structure-using-python/blob/main/Set%20Data%20Structure%2C%20Collections%20and%20Counter.ipynb\" target=\"_parent\"><img src=\"https://colab.research.google.com/assets/colab-badge.svg\" alt=\"Open In Colab\"/></a>"
      ]
    },
    {
      "cell_type": "markdown",
      "metadata": {
        "id": "vxFpq_Dpt5YB"
      },
      "source": [
        "# **Set Data Structure**\n",
        "\n",
        "Set elements must be immutable"
      ]
    },
    {
      "cell_type": "code",
      "metadata": {
        "colab": {
          "base_uri": "https://localhost:8080/"
        },
        "id": "ll_uHvg5uCcg",
        "outputId": "06219e85-3148-46b7-ea56-8323bbf00156"
      },
      "source": [
        "x = set(['foo' , 'bar' , 'baz' , 'foo' , 'qux'])\n",
        "print(x)"
      ],
      "execution_count": 1,
      "outputs": [
        {
          "output_type": "stream",
          "text": [
            "{'foo', 'qux', 'bar', 'baz'}\n"
          ],
          "name": "stdout"
        }
      ]
    },
    {
      "cell_type": "code",
      "metadata": {
        "id": "Fq7jK1OcuoKn"
      },
      "source": [
        "s = 'quux'\n",
        "s = set(s)"
      ],
      "execution_count": 2,
      "outputs": []
    },
    {
      "cell_type": "code",
      "metadata": {
        "colab": {
          "base_uri": "https://localhost:8080/"
        },
        "id": "umi7O-lyurf5",
        "outputId": "ac512042-82f4-4995-84c1-37e28c8b9df4"
      },
      "source": [
        "print(s)"
      ],
      "execution_count": 3,
      "outputs": [
        {
          "output_type": "stream",
          "text": [
            "{'u', 'x', 'q'}\n"
          ],
          "name": "stdout"
        }
      ]
    },
    {
      "cell_type": "code",
      "metadata": {
        "id": "AtHf1wwnusAU"
      },
      "source": [
        "x = {'foo' , 'bar' , 'baz' , 'foo' , 'qux'}"
      ],
      "execution_count": 4,
      "outputs": []
    },
    {
      "cell_type": "code",
      "metadata": {
        "colab": {
          "base_uri": "https://localhost:8080/"
        },
        "id": "hkDrONPzuySt",
        "outputId": "ab2eaa65-9ac6-4dbf-c2da-45417862767e"
      },
      "source": [
        "print(x)"
      ],
      "execution_count": 5,
      "outputs": [
        {
          "output_type": "stream",
          "text": [
            "{'foo', 'qux', 'bar', 'baz'}\n"
          ],
          "name": "stdout"
        }
      ]
    },
    {
      "cell_type": "code",
      "metadata": {
        "id": "4hIDvtMHuzhp"
      },
      "source": [
        "x = {'foo' , 'bar' , 'baz'}"
      ],
      "execution_count": 6,
      "outputs": []
    },
    {
      "cell_type": "code",
      "metadata": {
        "colab": {
          "base_uri": "https://localhost:8080/"
        },
        "id": "cwQk68EuvuUo",
        "outputId": "78cae970-08a2-4201-cec6-f9a746c22747"
      },
      "source": [
        "'foo' in x"
      ],
      "execution_count": 7,
      "outputs": [
        {
          "output_type": "execute_result",
          "data": {
            "text/plain": [
              "True"
            ]
          },
          "metadata": {
            "tags": []
          },
          "execution_count": 7
        }
      ]
    },
    {
      "cell_type": "code",
      "metadata": {
        "colab": {
          "base_uri": "https://localhost:8080/"
        },
        "id": "0Nz3_B21vv_L",
        "outputId": "9bcc4141-5799-4296-fc67-e1a31c74e4b1"
      },
      "source": [
        "'temp' in x"
      ],
      "execution_count": 8,
      "outputs": [
        {
          "output_type": "execute_result",
          "data": {
            "text/plain": [
              "False"
            ]
          },
          "metadata": {
            "tags": []
          },
          "execution_count": 8
        }
      ]
    },
    {
      "cell_type": "code",
      "metadata": {
        "id": "5z7g3o-wvxSN"
      },
      "source": [
        "x1 = {'foo' , 'bar' , 'baz'}\n",
        "x2 = {'baz' , 'qux' , 'quux'}"
      ],
      "execution_count": 9,
      "outputs": []
    },
    {
      "cell_type": "code",
      "metadata": {
        "colab": {
          "base_uri": "https://localhost:8080/"
        },
        "id": "tWYxp9qZwDd3",
        "outputId": "ba379e17-03a8-4195-c854-e7f95d4f9857"
      },
      "source": [
        "x1 | x2 # Union"
      ],
      "execution_count": 10,
      "outputs": [
        {
          "output_type": "execute_result",
          "data": {
            "text/plain": [
              "{'bar', 'baz', 'foo', 'quux', 'qux'}"
            ]
          },
          "metadata": {
            "tags": []
          },
          "execution_count": 10
        }
      ]
    },
    {
      "cell_type": "code",
      "metadata": {
        "colab": {
          "base_uri": "https://localhost:8080/"
        },
        "id": "xqx5V5gSwGuO",
        "outputId": "ba7a3f97-14a3-43c0-dad3-876bd14a3f7f"
      },
      "source": [
        "x1.union(x2)  # altenative"
      ],
      "execution_count": 11,
      "outputs": [
        {
          "output_type": "execute_result",
          "data": {
            "text/plain": [
              "{'bar', 'baz', 'foo', 'quux', 'qux'}"
            ]
          },
          "metadata": {
            "tags": []
          },
          "execution_count": 11
        }
      ]
    },
    {
      "cell_type": "code",
      "metadata": {
        "colab": {
          "base_uri": "https://localhost:8080/"
        },
        "id": "Pdkz84b4wLnh",
        "outputId": "6c9c7362-2769-4434-b0db-9a6c394e2d81"
      },
      "source": [
        "x1.intersection(x2)"
      ],
      "execution_count": 12,
      "outputs": [
        {
          "output_type": "execute_result",
          "data": {
            "text/plain": [
              "{'baz'}"
            ]
          },
          "metadata": {
            "tags": []
          },
          "execution_count": 12
        }
      ]
    },
    {
      "cell_type": "code",
      "metadata": {
        "colab": {
          "base_uri": "https://localhost:8080/"
        },
        "id": "wPzslJCewbTo",
        "outputId": "edc67f60-ce42-43f8-b551-529c58eafa6b"
      },
      "source": [
        "x1.difference(x2)  # stuff that is in x1 but not in x2"
      ],
      "execution_count": 13,
      "outputs": [
        {
          "output_type": "execute_result",
          "data": {
            "text/plain": [
              "{'bar', 'foo'}"
            ]
          },
          "metadata": {
            "tags": []
          },
          "execution_count": 13
        }
      ]
    },
    {
      "cell_type": "code",
      "metadata": {
        "colab": {
          "base_uri": "https://localhost:8080/"
        },
        "id": "6cE-3euewgxE",
        "outputId": "680c6ebb-8efe-4959-e403-d65612285664"
      },
      "source": [
        "x1.isdisjoint(x2)"
      ],
      "execution_count": 14,
      "outputs": [
        {
          "output_type": "execute_result",
          "data": {
            "text/plain": [
              "False"
            ]
          },
          "metadata": {
            "tags": []
          },
          "execution_count": 14
        }
      ]
    },
    {
      "cell_type": "code",
      "metadata": {
        "colab": {
          "base_uri": "https://localhost:8080/"
        },
        "id": "EKCoFmZJwktc",
        "outputId": "952c66f3-c987-432d-c83c-ce8e9da3d0fd"
      },
      "source": [
        "a = {1,2,3}\n",
        "b = {5,6,7}\n",
        "a.isdisjoint(b)"
      ],
      "execution_count": 15,
      "outputs": [
        {
          "output_type": "execute_result",
          "data": {
            "text/plain": [
              "True"
            ]
          },
          "metadata": {
            "tags": []
          },
          "execution_count": 15
        }
      ]
    },
    {
      "cell_type": "code",
      "metadata": {
        "colab": {
          "base_uri": "https://localhost:8080/"
        },
        "id": "Cs3LX6HAxDQX",
        "outputId": "b2401dc7-14b0-4a2a-d44d-7e67c022acf6"
      },
      "source": [
        "a = {1,2}\n",
        "b = {1,2,3,4,5}\n",
        "c = {1,2}\n",
        "\n",
        "print(a.issubset(b))\n",
        "print(a.issubset(c))\n",
        "print(b.issubset(c))"
      ],
      "execution_count": 16,
      "outputs": [
        {
          "output_type": "stream",
          "text": [
            "True\n",
            "True\n",
            "False\n"
          ],
          "name": "stdout"
        }
      ]
    },
    {
      "cell_type": "code",
      "metadata": {
        "colab": {
          "base_uri": "https://localhost:8080/"
        },
        "id": "IuW5DtSMxYnG",
        "outputId": "d1e905d9-6dda-4248-b833-226d8b855e77"
      },
      "source": [
        "a < c  # proper subset"
      ],
      "execution_count": 17,
      "outputs": [
        {
          "output_type": "execute_result",
          "data": {
            "text/plain": [
              "False"
            ]
          },
          "metadata": {
            "tags": []
          },
          "execution_count": 17
        }
      ]
    },
    {
      "cell_type": "code",
      "metadata": {
        "id": "8IHbC-KixcBF"
      },
      "source": [
        "a = {1,2,3}"
      ],
      "execution_count": 20,
      "outputs": []
    },
    {
      "cell_type": "code",
      "metadata": {
        "colab": {
          "base_uri": "https://localhost:8080/"
        },
        "id": "4RPiBuw1xc_x",
        "outputId": "c010922a-9e25-4cde-af9a-2abb0696e809"
      },
      "source": [
        "a.update([5])\n",
        "print(a)"
      ],
      "execution_count": 21,
      "outputs": [
        {
          "output_type": "stream",
          "text": [
            "{1, 2, 3, 5}\n"
          ],
          "name": "stdout"
        }
      ]
    },
    {
      "cell_type": "code",
      "metadata": {
        "colab": {
          "base_uri": "https://localhost:8080/"
        },
        "id": "cwbZLrLmxeeu",
        "outputId": "33070d7e-7b00-4622-e858-81c2d28b7290"
      },
      "source": [
        "a.remove(1)\n",
        "print(a)"
      ],
      "execution_count": 22,
      "outputs": [
        {
          "output_type": "stream",
          "text": [
            "{2, 3, 5}\n"
          ],
          "name": "stdout"
        }
      ]
    },
    {
      "cell_type": "markdown",
      "metadata": {
        "id": "rr_M5P3Kxz09"
      },
      "source": [
        "# **All and Any**\n",
        "\n",
        "You can use *all* and *any* if you have a lot of conditions -- all or some of which need to be satisfied"
      ]
    },
    {
      "cell_type": "code",
      "metadata": {
        "id": "lb9rRIrzyIJ-",
        "outputId": "43ac02b6-3913-44c3-827e-e2d2f094fb7a",
        "colab": {
          "base_uri": "https://localhost:8080/"
        }
      },
      "source": [
        "a = 5\n",
        "b = 4\n",
        "\n",
        "if a > 2 and a < 10 and b > 0 and b < 10:\n",
        "  print(\"All constraints satisfied\")"
      ],
      "execution_count": 23,
      "outputs": [
        {
          "output_type": "stream",
          "text": [
            "All constraints satisfied\n"
          ],
          "name": "stdout"
        }
      ]
    },
    {
      "cell_type": "code",
      "metadata": {
        "id": "HgwqQfJOydIj"
      },
      "source": [
        "a = 5\n",
        "b = 4\n",
        "\n",
        "constraints = {a > 2, a < 10 , b > 0 ,b < 10}"
      ],
      "execution_count": 24,
      "outputs": []
    },
    {
      "cell_type": "code",
      "metadata": {
        "id": "dFvUIR4oylvZ",
        "outputId": "2d0aef83-ec0e-4648-bafe-e6338299edaf",
        "colab": {
          "base_uri": "https://localhost:8080/"
        }
      },
      "source": [
        "if all(constraints):\n",
        "  print(\"All constraints satisfied\")"
      ],
      "execution_count": 25,
      "outputs": [
        {
          "output_type": "stream",
          "text": [
            "All constraints satisfied\n"
          ],
          "name": "stdout"
        }
      ]
    },
    {
      "cell_type": "code",
      "metadata": {
        "id": "nhiROXF4yrYd",
        "outputId": "dba754e3-4ecc-4910-e430-266140db1223",
        "colab": {
          "base_uri": "https://localhost:8080/"
        }
      },
      "source": [
        "if any(constraints):\n",
        "  print(\"At least one constraint satisfied\")"
      ],
      "execution_count": 26,
      "outputs": [
        {
          "output_type": "stream",
          "text": [
            "At least one constraint satisfied\n"
          ],
          "name": "stdout"
        }
      ]
    },
    {
      "cell_type": "markdown",
      "metadata": {
        "id": "iI7dZzUB0amv"
      },
      "source": [
        "# **Quantifiers**"
      ]
    },
    {
      "cell_type": "code",
      "metadata": {
        "id": "L2H_II-_0dyg"
      },
      "source": [
        "X = {10, 20, 30, 40, 50}"
      ],
      "execution_count": 29,
      "outputs": []
    },
    {
      "cell_type": "code",
      "metadata": {
        "id": "Bj7JJZru0iwR",
        "outputId": "fcc19c6a-2fc5-4d20-ed07-d2a34a4b7e30",
        "colab": {
          "base_uri": "https://localhost:8080/"
        }
      },
      "source": [
        "all ([x < 100 for x in X])  # same ad \"for all /each\""
      ],
      "execution_count": 30,
      "outputs": [
        {
          "output_type": "execute_result",
          "data": {
            "text/plain": [
              "True"
            ]
          },
          "metadata": {
            "tags": []
          },
          "execution_count": 30
        }
      ]
    },
    {
      "cell_type": "code",
      "metadata": {
        "id": "g1FztN3w0qlQ",
        "outputId": "7003a347-5f8d-428c-b1e8-a80059b448f7",
        "colab": {
          "base_uri": "https://localhost:8080/"
        }
      },
      "source": [
        "any ([x < 50 for x in X])   # same as \"ther exists\""
      ],
      "execution_count": 31,
      "outputs": [
        {
          "output_type": "execute_result",
          "data": {
            "text/plain": [
              "True"
            ]
          },
          "metadata": {
            "tags": []
          },
          "execution_count": 31
        }
      ]
    },
    {
      "cell_type": "markdown",
      "metadata": {
        "id": "7ZaFEVJP03su"
      },
      "source": [
        "You can also have an arbitrary function computer in the scope"
      ]
    },
    {
      "cell_type": "code",
      "metadata": {
        "id": "nE7pKnBQ0-LB"
      },
      "source": [
        "def is_div_by_20(n):\n",
        "  return n % 20 == 0"
      ],
      "execution_count": 32,
      "outputs": []
    },
    {
      "cell_type": "code",
      "metadata": {
        "id": "dANRzacF1gK0",
        "outputId": "24bd9388-081d-4ede-b222-079cab5d8a7d",
        "colab": {
          "base_uri": "https://localhost:8080/"
        }
      },
      "source": [
        "all ([ is_div_by_20(x) for x in X])"
      ],
      "execution_count": 33,
      "outputs": [
        {
          "output_type": "execute_result",
          "data": {
            "text/plain": [
              "False"
            ]
          },
          "metadata": {
            "tags": []
          },
          "execution_count": 33
        }
      ]
    },
    {
      "cell_type": "code",
      "metadata": {
        "id": "aCoyxJpc1lq9",
        "outputId": "d05a7296-f7bb-42b3-c1ad-484cd8ab9504",
        "colab": {
          "base_uri": "https://localhost:8080/"
        }
      },
      "source": [
        "any ([is_div_by_20(x) for x in X])"
      ],
      "execution_count": 34,
      "outputs": [
        {
          "output_type": "execute_result",
          "data": {
            "text/plain": [
              "True"
            ]
          },
          "metadata": {
            "tags": []
          },
          "execution_count": 34
        }
      ]
    },
    {
      "cell_type": "markdown",
      "metadata": {
        "id": "8Rn0zUiS1rGb"
      },
      "source": [
        "# **Counter**\n",
        "\n",
        "A counter is the same as a dictionary except it is used to keep count and as such does not throw a keyerror"
      ]
    },
    {
      "cell_type": "code",
      "metadata": {
        "id": "VRoxzVEm12j0"
      },
      "source": [
        "from collections import Counter\n",
        "cnt = Counter()\n",
        "for word in ['red' ,'blue', 'red' , 'green' , 'blue', 'blue']:\n",
        "  cnt[word] = cnt[word] + 1"
      ],
      "execution_count": 39,
      "outputs": []
    },
    {
      "cell_type": "code",
      "metadata": {
        "id": "2UANIFlB3M2G",
        "outputId": "488cff7a-57eb-42b9-b5b3-c42b1f6309f2",
        "colab": {
          "base_uri": "https://localhost:8080/"
        }
      },
      "source": [
        "cnt"
      ],
      "execution_count": 40,
      "outputs": [
        {
          "output_type": "execute_result",
          "data": {
            "text/plain": [
              "Counter({'blue': 3, 'green': 1, 'red': 2})"
            ]
          },
          "metadata": {
            "tags": []
          },
          "execution_count": 40
        }
      ]
    },
    {
      "cell_type": "code",
      "metadata": {
        "id": "l2CkGeTQ3NQ7",
        "outputId": "97b977d9-6877-4c6f-fd56-c79cb04f38fb",
        "colab": {
          "base_uri": "https://localhost:8080/"
        }
      },
      "source": [
        "cnt['orange']"
      ],
      "execution_count": 41,
      "outputs": [
        {
          "output_type": "execute_result",
          "data": {
            "text/plain": [
              "0"
            ]
          },
          "metadata": {
            "tags": []
          },
          "execution_count": 41
        }
      ]
    },
    {
      "cell_type": "code",
      "metadata": {
        "id": "jaSGA4MZ3PQB",
        "outputId": "a0fb55d4-d97f-4fee-98a3-9c311d608a2d",
        "colab": {
          "base_uri": "https://localhost:8080/"
        }
      },
      "source": [
        "cnt.most_common(2)"
      ],
      "execution_count": 42,
      "outputs": [
        {
          "output_type": "execute_result",
          "data": {
            "text/plain": [
              "[('blue', 3), ('red', 2)]"
            ]
          },
          "metadata": {
            "tags": []
          },
          "execution_count": 42
        }
      ]
    },
    {
      "cell_type": "code",
      "metadata": {
        "id": "QFSz9fA93RT1",
        "outputId": "60a6ba43-902c-4621-8422-bb1991abd93d",
        "colab": {
          "base_uri": "https://localhost:8080/"
        }
      },
      "source": [
        "from collections import Counter\n",
        "cnt = Counter()\n",
        "\n",
        "sentence = \"\"\" A wonderfull serenity has taken possession of my entire soul,\n",
        "               like those sweet mornings of spring which I enjoy with my whole heart.\n",
        "               I am alone, and feel the charm of existence in this spot, which was \n",
        "               created for the bliss of souls like mine.I am so happy \"\"\"\n",
        "\n",
        "for word in sentence.split():\n",
        "  cnt[word] += 1\n",
        "\n",
        "cnt.most_common()"
      ],
      "execution_count": 47,
      "outputs": [
        {
          "output_type": "execute_result",
          "data": {
            "text/plain": [
              "[('of', 4),\n",
              " ('my', 2),\n",
              " ('like', 2),\n",
              " ('which', 2),\n",
              " ('I', 2),\n",
              " ('am', 2),\n",
              " ('the', 2),\n",
              " ('A', 1),\n",
              " ('wonderfull', 1),\n",
              " ('serenity', 1),\n",
              " ('has', 1),\n",
              " ('taken', 1),\n",
              " ('possession', 1),\n",
              " ('entire', 1),\n",
              " ('soul,', 1),\n",
              " ('those', 1),\n",
              " ('sweet', 1),\n",
              " ('mornings', 1),\n",
              " ('spring', 1),\n",
              " ('enjoy', 1),\n",
              " ('with', 1),\n",
              " ('whole', 1),\n",
              " ('heart.', 1),\n",
              " ('alone,', 1),\n",
              " ('and', 1),\n",
              " ('feel', 1),\n",
              " ('charm', 1),\n",
              " ('existence', 1),\n",
              " ('in', 1),\n",
              " ('this', 1),\n",
              " ('spot,', 1),\n",
              " ('was', 1),\n",
              " ('created', 1),\n",
              " ('for', 1),\n",
              " ('bliss', 1),\n",
              " ('souls', 1),\n",
              " ('mine.I', 1),\n",
              " ('so', 1),\n",
              " ('happy', 1)]"
            ]
          },
          "metadata": {
            "tags": []
          },
          "execution_count": 47
        }
      ]
    },
    {
      "cell_type": "code",
      "metadata": {
        "id": "smrXVdkU5Dku"
      },
      "source": [
        ""
      ],
      "execution_count": 43,
      "outputs": []
    }
  ]
}