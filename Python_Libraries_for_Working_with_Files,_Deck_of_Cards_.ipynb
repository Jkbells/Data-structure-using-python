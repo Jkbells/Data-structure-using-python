{
  "nbformat": 4,
  "nbformat_minor": 0,
  "metadata": {
    "colab": {
      "name": "Python Libraries for Working with Files, Deck of Cards .ipynb",
      "provenance": [],
      "authorship_tag": "ABX9TyMatrpmUrcBiFSQgwSMwFum",
      "include_colab_link": true
    },
    "kernelspec": {
      "name": "python3",
      "display_name": "Python 3"
    },
    "language_info": {
      "name": "python"
    }
  },
  "cells": [
    {
      "cell_type": "markdown",
      "metadata": {
        "id": "view-in-github",
        "colab_type": "text"
      },
      "source": [
        "<a href=\"https://colab.research.google.com/github/jkbells/Data-structure-using-python/blob/main/Python_Libraries_for_Working_with_Files%2C_Deck_of_Cards_.ipynb\" target=\"_parent\"><img src=\"https://colab.research.google.com/assets/colab-badge.svg\" alt=\"Open In Colab\"/></a>"
      ]
    },
    {
      "cell_type": "markdown",
      "metadata": {
        "id": "EGMXyp5R98f5"
      },
      "source": [
        "# **OS Walk**"
      ]
    },
    {
      "cell_type": "code",
      "metadata": {
        "id": "SxEh0gga2Vw8"
      },
      "source": [
        "import glob\n",
        "import os"
      ],
      "execution_count": 5,
      "outputs": []
    },
    {
      "cell_type": "code",
      "metadata": {
        "colab": {
          "base_uri": "https://localhost:8080/"
        },
        "id": "20QdSARH-B1Z",
        "outputId": "c16ec2df-a403-4cb8-9fbf-031ac90c8a19"
      },
      "source": [
        "print(os.getcwd())"
      ],
      "execution_count": 6,
      "outputs": [
        {
          "output_type": "stream",
          "text": [
            "/content\n"
          ],
          "name": "stdout"
        }
      ]
    },
    {
      "cell_type": "code",
      "metadata": {
        "id": "6aBTnsx--EQD"
      },
      "source": [
        "os.chdir('sample_data')"
      ],
      "execution_count": 9,
      "outputs": []
    },
    {
      "cell_type": "code",
      "metadata": {
        "colab": {
          "base_uri": "https://localhost:8080/"
        },
        "id": "iWPYD4Db-JVq",
        "outputId": "a545c335-7930-405f-fc85-39a7eb20c3d3"
      },
      "source": [
        "print(os.getcwd())"
      ],
      "execution_count": 10,
      "outputs": [
        {
          "output_type": "stream",
          "text": [
            "/content/sample_data\n"
          ],
          "name": "stdout"
        }
      ]
    },
    {
      "cell_type": "code",
      "metadata": {
        "colab": {
          "base_uri": "https://localhost:8080/"
        },
        "id": "tjGZ7E8E-PoR",
        "outputId": "0bc31a93-3c67-44b0-d587-90cb54d919a3"
      },
      "source": [
        "os.listdir()"
      ],
      "execution_count": 11,
      "outputs": [
        {
          "output_type": "execute_result",
          "data": {
            "text/plain": [
              "['anscombe.json',\n",
              " 'README.md',\n",
              " 'california_housing_test.csv',\n",
              " 'mnist_train_small.csv',\n",
              " 'california_housing_train.csv',\n",
              " 'mnist_test.csv']"
            ]
          },
          "metadata": {},
          "execution_count": 11
        }
      ]
    },
    {
      "cell_type": "code",
      "metadata": {
        "colab": {
          "base_uri": "https://localhost:8080/"
        },
        "id": "DCbtz-7S_dts",
        "outputId": "1a2ff129-fdb9-4324-9f3f-961734a29eac"
      },
      "source": [
        "glob.glob('*.*')    # no, that's not a cure cat emoji"
      ],
      "execution_count": 12,
      "outputs": [
        {
          "output_type": "execute_result",
          "data": {
            "text/plain": [
              "['anscombe.json',\n",
              " 'README.md',\n",
              " 'california_housing_test.csv',\n",
              " 'mnist_train_small.csv',\n",
              " 'california_housing_train.csv',\n",
              " 'mnist_test.csv']"
            ]
          },
          "metadata": {},
          "execution_count": 12
        }
      ]
    },
    {
      "cell_type": "code",
      "metadata": {
        "id": "nyJjMnwV_pCY"
      },
      "source": [
        "for old_name in glob.glob('0*.*'):\n",
        "  new_name = \"tempfile-\" + old_name\n",
        "  print(\"Renaming:\", old_name, \"to\" , new_name)\n",
        "  os.rename(old_name, new_name)"
      ],
      "execution_count": 13,
      "outputs": []
    },
    {
      "cell_type": "code",
      "metadata": {
        "colab": {
          "base_uri": "https://localhost:8080/"
        },
        "id": "c-rFaZqiALNN",
        "outputId": "721d3573-e24e-4c19-ea7e-0a23786304fa"
      },
      "source": [
        "file_sizes = []\n",
        "\n",
        "for dir_path, dir , files in os.walk(\".\"):\n",
        "  print(\"Running in:\", os.path.join(dir_path))\n",
        "\n",
        "  for f in files:\n",
        "    file_full_path = os.path.join(dir_path, f)\n",
        "    file_size = os.path.getsize(file_full_path)\n",
        "\n",
        "    file_sizes.append((file_full_path, file_size))\n",
        "\n",
        "  print(\"\")"
      ],
      "execution_count": 16,
      "outputs": [
        {
          "output_type": "stream",
          "text": [
            "Running in: .\n",
            "\n"
          ],
          "name": "stdout"
        }
      ]
    },
    {
      "cell_type": "code",
      "metadata": {
        "colab": {
          "base_uri": "https://localhost:8080/"
        },
        "id": "jLyv3da-Bu_o",
        "outputId": "e491c57b-7ff1-44ef-9c89-16d8b17473d6"
      },
      "source": [
        "import pprint\n",
        "pprint.pprint(file_sizes)"
      ],
      "execution_count": 17,
      "outputs": [
        {
          "output_type": "stream",
          "text": [
            "[('./anscombe.json', 1697),\n",
            " ('./README.md', 930),\n",
            " ('./california_housing_test.csv', 301141),\n",
            " ('./mnist_train_small.csv', 36523880),\n",
            " ('./california_housing_train.csv', 1706430),\n",
            " ('./mnist_test.csv', 18289443)]\n"
          ],
          "name": "stdout"
        }
      ]
    },
    {
      "cell_type": "code",
      "metadata": {
        "id": "sNFYHhG2FFjd"
      },
      "source": [
        "file_sizes.sort(key=lambda x: x[1], reverse=True)"
      ],
      "execution_count": 18,
      "outputs": []
    },
    {
      "cell_type": "code",
      "metadata": {
        "colab": {
          "base_uri": "https://localhost:8080/"
        },
        "id": "OPtepLKgIy6V",
        "outputId": "e8d0cd67-bddd-45fe-9bc9-7f67a4b3fa3b"
      },
      "source": [
        "file_sizes"
      ],
      "execution_count": 19,
      "outputs": [
        {
          "output_type": "execute_result",
          "data": {
            "text/plain": [
              "[('./mnist_train_small.csv', 36523880),\n",
              " ('./mnist_test.csv', 18289443),\n",
              " ('./california_housing_train.csv', 1706430),\n",
              " ('./california_housing_test.csv', 301141),\n",
              " ('./anscombe.json', 1697),\n",
              " ('./README.md', 930)]"
            ]
          },
          "metadata": {},
          "execution_count": 19
        }
      ]
    },
    {
      "cell_type": "code",
      "metadata": {
        "colab": {
          "base_uri": "https://localhost:8080/"
        },
        "id": "Aa_pXLhfI0j2",
        "outputId": "75a8e605-a9a6-4391-a94e-458beb66cc18"
      },
      "source": [
        "filtered = filter(lambda x:x[1] > 1024*1024, file_sizes)  # get files greater than 1MB\n",
        "for f in filtered:\n",
        "  print(f)"
      ],
      "execution_count": 23,
      "outputs": [
        {
          "output_type": "stream",
          "text": [
            "('./mnist_train_small.csv', 36523880)\n",
            "('./mnist_test.csv', 18289443)\n",
            "('./california_housing_train.csv', 1706430)\n"
          ],
          "name": "stdout"
        }
      ]
    },
    {
      "cell_type": "markdown",
      "metadata": {
        "id": "n8qqbHSuLtOI"
      },
      "source": [
        "# **Cards and Decks**"
      ]
    },
    {
      "cell_type": "code",
      "metadata": {
        "id": "IRfWMNcwLr_K"
      },
      "source": [
        "class Card:\n",
        "  def __init__(self, suit, val):\n",
        "    self.suit = suit\n",
        "    self.val = val\n",
        "\n",
        "  def __str__(self):\n",
        "    return str(self.val) + \"of\" + self.suit\n",
        "\n",
        "class Deck:\n",
        "  def __init__(self):\n",
        "    self.cards = []\n",
        "    self.build()\n",
        "\n",
        "  def build(self):\n",
        "    for s in [\"spades\" , \"Hearts\" , \"Diamonds\", \"Clubs\"]:\n",
        "      for v in range(1, 14):\n",
        "        self.cards.append(Card(s, v))\n",
        "\n",
        "  def __str__(self):\n",
        "    ret = \"\"\n",
        "    for c in self.cards:\n",
        "      ret += str(c) + \"\\n\"\n",
        "    return ret\n",
        "\n"
      ],
      "execution_count": 24,
      "outputs": []
    },
    {
      "cell_type": "code",
      "metadata": {
        "id": "-ZBFAhNdWILC"
      },
      "source": [
        "c1 = Card(\"Hearts\", 5)"
      ],
      "execution_count": 25,
      "outputs": []
    },
    {
      "cell_type": "code",
      "metadata": {
        "colab": {
          "base_uri": "https://localhost:8080/"
        },
        "id": "Aa7rG3TeWMFc",
        "outputId": "99516ff3-0ba7-4d11-9f4d-18a113b4736a"
      },
      "source": [
        "print(c1)"
      ],
      "execution_count": 26,
      "outputs": [
        {
          "output_type": "stream",
          "text": [
            "5ofHearts\n"
          ],
          "name": "stdout"
        }
      ]
    },
    {
      "cell_type": "code",
      "metadata": {
        "id": "CWZUwmbgWNDU"
      },
      "source": [
        "d = Deck()"
      ],
      "execution_count": 27,
      "outputs": []
    },
    {
      "cell_type": "code",
      "metadata": {
        "colab": {
          "base_uri": "https://localhost:8080/"
        },
        "id": "BTleyltiWXsb",
        "outputId": "44a24270-d9b6-43e5-82f9-0fd5fc96cf23"
      },
      "source": [
        "print(d)"
      ],
      "execution_count": 28,
      "outputs": [
        {
          "output_type": "stream",
          "text": [
            "1ofspades\n",
            "2ofspades\n",
            "3ofspades\n",
            "4ofspades\n",
            "5ofspades\n",
            "6ofspades\n",
            "7ofspades\n",
            "8ofspades\n",
            "9ofspades\n",
            "10ofspades\n",
            "11ofspades\n",
            "12ofspades\n",
            "13ofspades\n",
            "1ofHearts\n",
            "2ofHearts\n",
            "3ofHearts\n",
            "4ofHearts\n",
            "5ofHearts\n",
            "6ofHearts\n",
            "7ofHearts\n",
            "8ofHearts\n",
            "9ofHearts\n",
            "10ofHearts\n",
            "11ofHearts\n",
            "12ofHearts\n",
            "13ofHearts\n",
            "1ofDiamonds\n",
            "2ofDiamonds\n",
            "3ofDiamonds\n",
            "4ofDiamonds\n",
            "5ofDiamonds\n",
            "6ofDiamonds\n",
            "7ofDiamonds\n",
            "8ofDiamonds\n",
            "9ofDiamonds\n",
            "10ofDiamonds\n",
            "11ofDiamonds\n",
            "12ofDiamonds\n",
            "13ofDiamonds\n",
            "1ofClubs\n",
            "2ofClubs\n",
            "3ofClubs\n",
            "4ofClubs\n",
            "5ofClubs\n",
            "6ofClubs\n",
            "7ofClubs\n",
            "8ofClubs\n",
            "9ofClubs\n",
            "10ofClubs\n",
            "11ofClubs\n",
            "12ofClubs\n",
            "13ofClubs\n",
            "\n"
          ],
          "name": "stdout"
        }
      ]
    },
    {
      "cell_type": "code",
      "metadata": {
        "id": "l137tkYoWY4j"
      },
      "source": [
        "import random"
      ],
      "execution_count": 38,
      "outputs": []
    },
    {
      "cell_type": "code",
      "metadata": {
        "id": "ZQ9RnhBvWaUD"
      },
      "source": [
        "def shuffle(self):\n",
        "  for i in range(0, len(self.cards)):\n",
        "    r = random.randint(0, i)    # find another number\n",
        "    self.cards[i], self.cards[r] = self.cards[r] , self.cards[i] # and swap\n",
        "\n",
        "Deck.shuffle = shuffle"
      ],
      "execution_count": 39,
      "outputs": []
    },
    {
      "cell_type": "code",
      "metadata": {
        "colab": {
          "base_uri": "https://localhost:8080/"
        },
        "id": "PJcbkqELbvb2",
        "outputId": "04fb1372-764c-43be-bf54-3185957d1e56"
      },
      "source": [
        "d.shuffle()\n",
        "print(d)"
      ],
      "execution_count": 40,
      "outputs": [
        {
          "output_type": "stream",
          "text": [
            "1ofspades\n",
            "3ofClubs\n",
            "12ofClubs\n",
            "8ofHearts\n",
            "5ofDiamonds\n",
            "13ofClubs\n",
            "9ofClubs\n",
            "11ofDiamonds\n",
            "9ofspades\n",
            "2ofspades\n",
            "6ofDiamonds\n",
            "2ofDiamonds\n",
            "5ofspades\n",
            "13ofDiamonds\n",
            "1ofClubs\n",
            "10ofClubs\n",
            "4ofspades\n",
            "8ofDiamonds\n",
            "11ofspades\n",
            "5ofClubs\n",
            "10ofDiamonds\n",
            "3ofHearts\n",
            "12ofHearts\n",
            "7ofClubs\n",
            "8ofClubs\n",
            "1ofHearts\n",
            "9ofHearts\n",
            "10ofspades\n",
            "13ofHearts\n",
            "1ofDiamonds\n",
            "3ofDiamonds\n",
            "3ofspades\n",
            "7ofHearts\n",
            "4ofHearts\n",
            "7ofspades\n",
            "9ofDiamonds\n",
            "4ofClubs\n",
            "12ofDiamonds\n",
            "11ofHearts\n",
            "2ofHearts\n",
            "13ofspades\n",
            "8ofspades\n",
            "4ofDiamonds\n",
            "6ofHearts\n",
            "2ofClubs\n",
            "6ofClubs\n",
            "11ofClubs\n",
            "6ofspades\n",
            "12ofspades\n",
            "10ofHearts\n",
            "7ofDiamonds\n",
            "5ofHearts\n",
            "\n"
          ],
          "name": "stdout"
        }
      ]
    },
    {
      "cell_type": "code",
      "metadata": {
        "id": "pHBVipPCbx9D"
      },
      "source": [
        "def draw(self):\n",
        "  r = random.randint(0, len(self,cards))\n",
        "  c = self.cards.pop(r)\n",
        "  return c\n",
        "\n",
        "Deck.draw = draw"
      ],
      "execution_count": 41,
      "outputs": []
    },
    {
      "cell_type": "code",
      "metadata": {
        "id": "YCwVujFccHtr"
      },
      "source": [
        "c = d.draw()"
      ],
      "execution_count": null,
      "outputs": []
    },
    {
      "cell_type": "code",
      "metadata": {
        "id": "bQ-Mh0JPcJKa"
      },
      "source": [
        "print(c)"
      ],
      "execution_count": null,
      "outputs": []
    },
    {
      "cell_type": "code",
      "metadata": {
        "id": "quyxNt_xciil"
      },
      "source": [
        "print(d)"
      ],
      "execution_count": null,
      "outputs": []
    },
    {
      "cell_type": "code",
      "metadata": {
        "id": "sicUaa44ci8J"
      },
      "source": [
        ""
      ],
      "execution_count": null,
      "outputs": []
    }
  ]
}