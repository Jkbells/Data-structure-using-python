{
  "nbformat": 4,
  "nbformat_minor": 0,
  "metadata": {
    "colab": {
      "name": "Untitled11.ipynb",
      "provenance": [],
      "collapsed_sections": [],
      "authorship_tag": "ABX9TyNE1AysGAxhLoV3EzYqaUUj",
      "include_colab_link": true
    },
    "kernelspec": {
      "name": "python3",
      "display_name": "Python 3"
    },
    "language_info": {
      "name": "python"
    }
  },
  "cells": [
    {
      "cell_type": "markdown",
      "metadata": {
        "id": "view-in-github",
        "colab_type": "text"
      },
      "source": [
        "<a href=\"https://colab.research.google.com/github/jawmatlo/Data-structure-using-python/blob/main/Recursion%20with%20Examples.ipynb\" target=\"_parent\"><img src=\"https://colab.research.google.com/assets/colab-badge.svg\" alt=\"Open In Colab\"/></a>"
      ]
    },
    {
      "cell_type": "markdown",
      "metadata": {
        "id": "TX_3gBLSCBEV"
      },
      "source": [
        "# **Recursion**"
      ]
    },
    {
      "cell_type": "markdown",
      "metadata": {
        "id": "VJxfdEnoCGpN"
      },
      "source": [
        "# **Square Root**\n",
        "\n",
        "No, we're not doing this . Enough is enough!"
      ]
    },
    {
      "cell_type": "markdown",
      "metadata": {
        "id": "4rwS4ck3CR0Z"
      },
      "source": [
        "# **Factorial**"
      ]
    },
    {
      "cell_type": "code",
      "metadata": {
        "id": "jXRnqVSdCF7i"
      },
      "source": [
        "def fact(n):\n",
        "  # base case\n",
        "  if n<= 1:\n",
        "    return 1\n",
        "\n",
        "  # induction case\n",
        "  return n*fact(n-1)"
      ],
      "execution_count": 5,
      "outputs": []
    },
    {
      "cell_type": "code",
      "metadata": {
        "colab": {
          "base_uri": "https://localhost:8080/"
        },
        "id": "mxODLxFoCfBf",
        "outputId": "19a9735d-c9ba-4a96-9a55-e28ce67bb33f"
      },
      "source": [
        "for i in range(1, 7):\n",
        "  print(\"Factorial of: , i , is\" , fact(i))"
      ],
      "execution_count": 6,
      "outputs": [
        {
          "output_type": "stream",
          "text": [
            "Factorial of: , i , is 1\n",
            "Factorial of: , i , is 2\n",
            "Factorial of: , i , is 6\n",
            "Factorial of: , i , is 24\n",
            "Factorial of: , i , is 120\n",
            "Factorial of: , i , is 720\n"
          ],
          "name": "stdout"
        }
      ]
    },
    {
      "cell_type": "markdown",
      "metadata": {
        "id": "pOlt3CqKKRA5"
      },
      "source": [
        "# **Fib**"
      ]
    },
    {
      "cell_type": "code",
      "metadata": {
        "id": "xgu90pjPCuLj"
      },
      "source": [
        "def fib(n):\n",
        "  if n <= 1:\n",
        "    return 1\n",
        "\n",
        "  return fib(n-1) + fib(n-2)   # more stuff after recursive call \n"
      ],
      "execution_count": 7,
      "outputs": []
    },
    {
      "cell_type": "code",
      "metadata": {
        "colab": {
          "base_uri": "https://localhost:8080/"
        },
        "id": "zKsUbtYIKgFI",
        "outputId": "d5b752f7-7590-4144-ac49-97d260775eb4"
      },
      "source": [
        "%timeit fib(20)"
      ],
      "execution_count": 8,
      "outputs": [
        {
          "output_type": "stream",
          "text": [
            "100 loops, best of 5: 2.93 ms per loop\n"
          ],
          "name": "stdout"
        }
      ]
    },
    {
      "cell_type": "code",
      "metadata": {
        "id": "fNJ48P6mLHfA"
      },
      "source": [
        "def fib(n):\n",
        "  a , b = 1,1\n",
        "  for i in range(n):\n",
        "    a, b = b, a+b\n",
        "  return a"
      ],
      "execution_count": 12,
      "outputs": []
    },
    {
      "cell_type": "code",
      "metadata": {
        "colab": {
          "base_uri": "https://localhost:8080/"
        },
        "id": "lZYxkae4LOfl",
        "outputId": "778b10b6-6acf-4dbb-d799-354bd89aebd8"
      },
      "source": [
        "fib(5)   # 1,1,2,3,5,8"
      ],
      "execution_count": 13,
      "outputs": [
        {
          "output_type": "execute_result",
          "data": {
            "text/plain": [
              "8"
            ]
          },
          "metadata": {
            "tags": []
          },
          "execution_count": 13
        }
      ]
    },
    {
      "cell_type": "code",
      "metadata": {
        "id": "OmD1OgTOLRoB"
      },
      "source": [
        "def fib(n , a = 0 , b = 1):\n",
        "  if n == 0:\n",
        "    return a\n",
        "\n",
        "  return fib(n-1 , b , a+b)  # since everything is done at the last call, this is called tail-recursion"
      ],
      "execution_count": 14,
      "outputs": []
    },
    {
      "cell_type": "code",
      "metadata": {
        "colab": {
          "base_uri": "https://localhost:8080/"
        },
        "id": "s1u_hDbxL-7k",
        "outputId": "9b26c10b-72f0-40eb-ffb0-f4acfdc0cfed"
      },
      "source": [
        "fib(8)"
      ],
      "execution_count": 15,
      "outputs": [
        {
          "output_type": "execute_result",
          "data": {
            "text/plain": [
              "21"
            ]
          },
          "metadata": {
            "tags": []
          },
          "execution_count": 15
        }
      ]
    },
    {
      "cell_type": "markdown",
      "metadata": {
        "id": "o020nhrbMVtZ"
      },
      "source": [
        "# **Tower of Hanoi**"
      ]
    },
    {
      "cell_type": "code",
      "metadata": {
        "id": "XeHlIqx5MUA0"
      },
      "source": [
        "def tower_of_hanoi(levels=3):\n",
        "  move_tower(levels, 'A' , 'C' , 'B') # move n-level tower from A to C using us aux\n",
        "\n",
        "\n",
        "def move_tower(l, fr , to, ax):\n",
        "  if  l== 1:\n",
        "    print_move(l, fr , to)\n",
        "    return \n",
        "\n",
        "  move_tower(l-1, fr, ax, to)\n",
        "  print_move(l, fr , to)\n",
        "  move_tower(l-1 , ax, to , fr)\n",
        "\n",
        "def print_move(l ,fr, to):\n",
        "  print(\"Move: \" , l , \"from\" , fr , \"to\" , to)"
      ],
      "execution_count": 2,
      "outputs": []
    },
    {
      "cell_type": "code",
      "metadata": {
        "id": "YT1VgE2uRMhB",
        "outputId": "2014e542-414b-4529-e9fd-9828d9e774e1",
        "colab": {
          "base_uri": "https://localhost:8080/"
        }
      },
      "source": [
        "tower_of_hanoi(4)"
      ],
      "execution_count": 5,
      "outputs": [
        {
          "output_type": "stream",
          "text": [
            "Move:  1 from A to B\n",
            "Move:  2 from A to C\n",
            "Move:  1 from B to C\n",
            "Move:  3 from A to B\n",
            "Move:  1 from C to A\n",
            "Move:  2 from C to B\n",
            "Move:  1 from A to B\n",
            "Move:  4 from A to C\n",
            "Move:  1 from B to C\n",
            "Move:  2 from B to A\n",
            "Move:  1 from C to A\n",
            "Move:  3 from B to C\n",
            "Move:  1 from A to B\n",
            "Move:  2 from A to C\n",
            "Move:  1 from B to C\n"
          ],
          "name": "stdout"
        }
      ]
    },
    {
      "cell_type": "markdown",
      "metadata": {
        "id": "EicydaFSTBqy"
      },
      "source": [
        "# **Sum Over a List**"
      ]
    },
    {
      "cell_type": "code",
      "metadata": {
        "id": "IYn9jF-3RQJr"
      },
      "source": [
        "def sum_list(l):\n",
        "  sum = 0\n",
        "  for i in l:\n",
        "    sum += i\n",
        "  return sum"
      ],
      "execution_count": 6,
      "outputs": []
    },
    {
      "cell_type": "code",
      "metadata": {
        "id": "lq7_PqacTMRH"
      },
      "source": [
        "l = [1, 2, 3, 4, 5]"
      ],
      "execution_count": 7,
      "outputs": []
    },
    {
      "cell_type": "code",
      "metadata": {
        "id": "vDS_7VU8TPdt",
        "outputId": "87efce8e-f9ba-4c58-a4da-039935f379c4",
        "colab": {
          "base_uri": "https://localhost:8080/"
        }
      },
      "source": [
        "sum_list(l)"
      ],
      "execution_count": 8,
      "outputs": [
        {
          "output_type": "execute_result",
          "data": {
            "text/plain": [
              "15"
            ]
          },
          "metadata": {
            "tags": []
          },
          "execution_count": 8
        }
      ]
    },
    {
      "cell_type": "code",
      "metadata": {
        "id": "OH8PUzn5TQra"
      },
      "source": [
        "def sum_list_recursive(l):\n",
        "  if len(l) == 0:                          #  base case: sum of empty list is 0\n",
        "    return 0\n",
        "\n",
        "  return l[0] + sum_list_recursive(l[1:])  # induction case : head + sum of the "
      ],
      "execution_count": 9,
      "outputs": []
    },
    {
      "cell_type": "code",
      "metadata": {
        "id": "lUVwHvzLTrF9",
        "outputId": "2b113b2c-59b1-4897-8d3f-ca8656e69ef1",
        "colab": {
          "base_uri": "https://localhost:8080/"
        }
      },
      "source": [
        "sum_list_recursive(l)"
      ],
      "execution_count": 10,
      "outputs": [
        {
          "output_type": "execute_result",
          "data": {
            "text/plain": [
              "15"
            ]
          },
          "metadata": {
            "tags": []
          },
          "execution_count": 10
        }
      ]
    },
    {
      "cell_type": "code",
      "metadata": {
        "id": "rMfmzNYyTs2y"
      },
      "source": [
        ""
      ],
      "execution_count": null,
      "outputs": []
    }
  ]
}