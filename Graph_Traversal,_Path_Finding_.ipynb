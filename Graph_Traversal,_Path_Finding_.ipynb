{
  "nbformat": 4,
  "nbformat_minor": 0,
  "metadata": {
    "colab": {
      "name": "Graph Traversal, Path Finding .ipynb",
      "provenance": [],
      "collapsed_sections": [],
      "authorship_tag": "ABX9TyNsm7b7Hi4dbJ1KMxRdXzH4",
      "include_colab_link": true
    },
    "kernelspec": {
      "name": "python3",
      "display_name": "Python 3"
    },
    "language_info": {
      "name": "python"
    }
  },
  "cells": [
    {
      "cell_type": "markdown",
      "metadata": {
        "id": "view-in-github",
        "colab_type": "text"
      },
      "source": [
        "<a href=\"https://colab.research.google.com/github/jkbells/Data-structure-using-python/blob/main/Graph_Traversal%2C_Path_Finding_.ipynb\" target=\"_parent\"><img src=\"https://colab.research.google.com/assets/colab-badge.svg\" alt=\"Open In Colab\"/></a>"
      ]
    },
    {
      "cell_type": "markdown",
      "metadata": {
        "id": "pmYIVeTyDD9H"
      },
      "source": [
        "# **Graphs - Traversal and Path Finding**"
      ]
    },
    {
      "cell_type": "code",
      "metadata": {
        "colab": {
          "base_uri": "https://localhost:8080/"
        },
        "id": "3jI86bW2yOLk",
        "outputId": "542155ca-61ac-491a-e4fa-4eb49ffabf0c"
      },
      "source": [
        "!pip install networkx   # install once"
      ],
      "execution_count": 26,
      "outputs": [
        {
          "output_type": "stream",
          "text": [
            "Requirement already satisfied: networkx in /usr/local/lib/python3.7/dist-packages (2.6.2)\n"
          ],
          "name": "stdout"
        }
      ]
    },
    {
      "cell_type": "code",
      "metadata": {
        "id": "PV_6f6hEDO4D"
      },
      "source": [
        "import networkx as nx\n",
        "import matplotlib.pyplot as plt\n",
        "\n",
        "# for notebook\n",
        "%matplotlib inline\n",
        "import warnings\n",
        "warnings.filterwarnings(\"ignore\")"
      ],
      "execution_count": 27,
      "outputs": []
    },
    {
      "cell_type": "code",
      "metadata": {
        "id": "6LvEzP3tNfW9"
      },
      "source": [
        "def draw_graph_with_nx(G):\n",
        "  pos = nx.spring_layout(6, iterations=200)\n",
        "  options = {'node_color': 'white', 'alpha': 1, 'node_size': 2000, 'width': 0.002,\n",
        "             'font_size': 25, 'arrow': True, 'edge_color' : 'brown',\n",
        "             'arrowstyle': 'Fancy, head_lenght=1, tail_width=4'\n",
        "            }\n",
        "\n",
        "  labels = nx.get_node_attributes(G, 'label')\n",
        "  nx.draw(G, pos, labels=labels, **options)\n",
        "  plt.show()"
      ],
      "execution_count": 28,
      "outputs": []
    },
    {
      "cell_type": "code",
      "metadata": {
        "id": "g9ZGhdhHO04t"
      },
      "source": [
        "class DiGraph:\n",
        "  def __init__(self):\n",
        "    self.g = {}\n",
        "\n",
        "  def add_node(self, node):\n",
        "    if node in self.g:\n",
        "      raise ValueError(\"Node already in graph\")\n",
        "\n",
        "    self.g[node] = []\n",
        "\n",
        "  def add_edge(self, src, dest):\n",
        "    if src not in self.g:\n",
        "      raise ValueError(\"Sourse node in graph\")\n",
        "    if dest not in self.g:\n",
        "      raise ValueError(\"Destination node not in graph\")\n",
        "\n",
        "    nexts = self.g[src]\n",
        "    if dest in nexts:\n",
        "      return\n",
        "\n",
        "    nexts.append(dest)\n",
        "\n",
        "  def draw_graph(self):\n",
        "    G = nx.DiGraph()\n",
        "    for src in self.g:\n",
        "      G.add_node(src, label=src)\n",
        "      for dest in self.g[src]:\n",
        "        G.add_edge(src, dest)\n",
        "\n",
        "    draw_graph_with_nx(G)"
      ],
      "execution_count": 29,
      "outputs": []
    },
    {
      "cell_type": "code",
      "metadata": {
        "id": "bReYxR8yPoDc"
      },
      "source": [
        "g = DiGraph()\n",
        "\n",
        "nodes = ['a', 'b', 'c', 'd', 'e', 'f']\n",
        "\n",
        "for n in nodes:\n",
        "  g.add_node(n)"
      ],
      "execution_count": 30,
      "outputs": []
    },
    {
      "cell_type": "code",
      "metadata": {
        "id": "03kOYXonQ-ni"
      },
      "source": [
        "edges = [\n",
        "         ('a', 'b'),\n",
        "         ('a', 'c'),\n",
        "         ('b', 'c'),\n",
        "         ('b', 'd'),\n",
        "         ('c', 'd'),\n",
        "         ('d', 'c'),\n",
        "         ('e', 'f'),\n",
        "         ('f', 'c')\n",
        "]\n",
        "\n",
        "for e in edges:\n",
        "  g.add_edge(e[0], e[1])"
      ],
      "execution_count": 31,
      "outputs": []
    },
    {
      "cell_type": "code",
      "metadata": {
        "colab": {
          "base_uri": "https://localhost:8080/"
        },
        "id": "_MX7ODePRzmn",
        "outputId": "ecb392ad-9d7e-4f83-d65c-53d60b910360"
      },
      "source": [
        "print(g.g)  # Abstraction Police: Don't freak out! We're just looking."
      ],
      "execution_count": 32,
      "outputs": [
        {
          "output_type": "stream",
          "text": [
            "{'a': ['b', 'c'], 'b': ['c', 'd'], 'c': ['d'], 'd': ['c'], 'e': ['f'], 'f': ['c']}\n"
          ],
          "name": "stdout"
        }
      ]
    },
    {
      "cell_type": "code",
      "metadata": {
        "colab": {
          "base_uri": "https://localhost:8080/"
        },
        "id": "8AxVLG0mTCHL",
        "outputId": "d8dc16fe-780b-4195-eecb-a7991b775f8a"
      },
      "source": [
        "import pprint   # pretty printing!\n",
        "pprint.pprint(g.g)"
      ],
      "execution_count": 33,
      "outputs": [
        {
          "output_type": "stream",
          "text": [
            "{'a': ['b', 'c'],\n",
            " 'b': ['c', 'd'],\n",
            " 'c': ['d'],\n",
            " 'd': ['c'],\n",
            " 'e': ['f'],\n",
            " 'f': ['c']}\n"
          ],
          "name": "stdout"
        }
      ]
    },
    {
      "cell_type": "code",
      "metadata": {
        "id": "ZXKjUdEwTUYS"
      },
      "source": [
        "g.draw_graph()"
      ],
      "execution_count": 34,
      "outputs": []
    },
    {
      "cell_type": "code",
      "metadata": {
        "id": "ONYqpCOjTfav"
      },
      "source": [
        "def traverse_graph(self, start):\n",
        "  \"\"\"Traverse graph starting form given start node.\"\"\"\n",
        "\n",
        "  q = [start] \n",
        "  visited = []\n",
        "\n",
        "  while q:\n",
        "    current = q.pop()\n",
        "\n",
        "    # if we've already visited it, we can skip\n",
        "    if current in visited:\n",
        "      continue\n",
        "\n",
        "    print(current)\n",
        "\n",
        "    # we're done with current\n",
        "    visited.append(current)\n",
        "\n",
        "    # get all directly connected nodes\n",
        "    next_nodes = self.g[current]\n",
        "\n",
        "    # traverse all the nexts\n",
        "    for n in next_nodes:\n",
        "      q.append(n)\n",
        "\n",
        "DiGraph.traverse_graph = traverse_graph"
      ],
      "execution_count": 39,
      "outputs": []
    },
    {
      "cell_type": "code",
      "metadata": {
        "colab": {
          "base_uri": "https://localhost:8080/"
        },
        "id": "ODnYFUy9Wug4",
        "outputId": "5884e34c-e708-408d-ea94-6e163dcfeca7"
      },
      "source": [
        "g.traverse_graph('a')   # also traverse from a"
      ],
      "execution_count": 42,
      "outputs": [
        {
          "output_type": "stream",
          "text": [
            "a\n",
            "c\n",
            "d\n",
            "b\n"
          ],
          "name": "stdout"
        }
      ]
    },
    {
      "cell_type": "code",
      "metadata": {
        "id": "7l_Knc80W9c-"
      },
      "source": [
        "def find_path(self, start, end, path=[]):\n",
        "  \"\"\"Find path (not necessarily shortest) from start to end.\"\"\"\n",
        "  # sanity check\n",
        "  if start not in self.g:\n",
        "    raise valueError(\"Sourse node not in graph\")\n",
        "\n",
        "\n",
        "  # save the path we have traversed till now\n",
        "  path = path + [start]\n",
        "\n",
        "  # base case\n",
        "  if start == end:\n",
        "    return path\n",
        "\n",
        "  # recursive case\n",
        "  for node in self.g[start]:\n",
        "\n",
        "    # need to avoid cycles\n",
        "    if node not in path:\n",
        "\n",
        "      # find path next node to\n",
        "      newpath = self.find_path(node, end, path)\n",
        "      if newpath:\n",
        "        return newpath\n",
        "\n",
        "  # if no path can be found from any of the next nodes to the end, there's no path!\n",
        "  return None\n",
        "\n",
        "DiGraph.find_path = find_path"
      ],
      "execution_count": 43,
      "outputs": []
    },
    {
      "cell_type": "code",
      "metadata": {
        "colab": {
          "base_uri": "https://localhost:8080/"
        },
        "id": "dnUZnpHka9jp",
        "outputId": "87dfe97b-10bf-4869-8588-6cd04ad3b82e"
      },
      "source": [
        "g.find_path('d', 'd')"
      ],
      "execution_count": 44,
      "outputs": [
        {
          "output_type": "execute_result",
          "data": {
            "text/plain": [
              "['d']"
            ]
          },
          "metadata": {},
          "execution_count": 44
        }
      ]
    },
    {
      "cell_type": "code",
      "metadata": {
        "colab": {
          "base_uri": "https://localhost:8080/"
        },
        "id": "ixdJVp4ybAiA",
        "outputId": "327c06e8-6fff-4b88-8076-da9a6e90f147"
      },
      "source": [
        "g.find_path('a' , 'a')"
      ],
      "execution_count": 45,
      "outputs": [
        {
          "output_type": "execute_result",
          "data": {
            "text/plain": [
              "['a']"
            ]
          },
          "metadata": {},
          "execution_count": 45
        }
      ]
    },
    {
      "cell_type": "code",
      "metadata": {
        "colab": {
          "base_uri": "https://localhost:8080/"
        },
        "id": "Hk70EKqcbVVL",
        "outputId": "e12d9bd9-1b7b-4808-954b-5cff8b2beae9"
      },
      "source": [
        "g.find_path('a', 'c')"
      ],
      "execution_count": 46,
      "outputs": [
        {
          "output_type": "execute_result",
          "data": {
            "text/plain": [
              "['a', 'b', 'c']"
            ]
          },
          "metadata": {},
          "execution_count": 46
        }
      ]
    },
    {
      "cell_type": "code",
      "metadata": {
        "colab": {
          "base_uri": "https://localhost:8080/"
        },
        "id": "VWaqIPuubYpS",
        "outputId": "439eefc8-295b-4943-c7c2-68617adcea5c"
      },
      "source": [
        "g.find_path('a','d')"
      ],
      "execution_count": 47,
      "outputs": [
        {
          "output_type": "execute_result",
          "data": {
            "text/plain": [
              "['a', 'b', 'c', 'd']"
            ]
          },
          "metadata": {},
          "execution_count": 47
        }
      ]
    },
    {
      "cell_type": "code",
      "metadata": {
        "colab": {
          "base_uri": "https://localhost:8080/"
        },
        "id": "5-wHHgMSbcu8",
        "outputId": "6e407bc6-cf07-44d4-c32f-eafb32ee5090"
      },
      "source": [
        "print(g.find_path('a', 'f'))"
      ],
      "execution_count": 48,
      "outputs": [
        {
          "output_type": "stream",
          "text": [
            "None\n"
          ],
          "name": "stdout"
        }
      ]
    },
    {
      "cell_type": "code",
      "metadata": {
        "id": "6qeaOidIbfwt"
      },
      "source": [
        ""
      ],
      "execution_count": null,
      "outputs": []
    }
  ]
}