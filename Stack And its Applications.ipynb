{
  "nbformat": 4,
  "nbformat_minor": 0,
  "metadata": {
    "colab": {
      "name": "Untitled8.ipynb",
      "provenance": [],
      "authorship_tag": "ABX9TyNb6erxX7AMZOV4UgLxG/wQ",
      "include_colab_link": true
    },
    "kernelspec": {
      "name": "python3",
      "display_name": "Python 3"
    },
    "language_info": {
      "name": "python"
    }
  },
  "cells": [
    {
      "cell_type": "markdown",
      "metadata": {
        "id": "view-in-github",
        "colab_type": "text"
      },
      "source": [
        "<a href=\"https://colab.research.google.com/github/MythicalStack/Data-structure-using-python/blob/main/Stack%20And%20its%20Applications.ipynb\" target=\"_parent\"><img src=\"https://colab.research.google.com/assets/colab-badge.svg\" alt=\"Open In Colab\"/></a>"
      ]
    },
    {
      "cell_type": "markdown",
      "metadata": {
        "id": "-mSKGjayCZ51"
      },
      "source": [
        "# **Stack**\n",
        "\n",
        "A stack is essentially free in python. Here's what happens when we use python's list"
      ]
    },
    {
      "cell_type": "code",
      "metadata": {
        "colab": {
          "base_uri": "https://localhost:8080/"
        },
        "id": "qESZOCqWCr06",
        "outputId": "b464274d-6dee-488b-e87a-6bcba242d0dd"
      },
      "source": [
        "s = []\n",
        "\n",
        "s.append(12)  # append is the same as push\n",
        "s.append(5)\n",
        "s.append(55)\n",
        "\n",
        "print(s)\n",
        "\n",
        "print(s.pop())\n",
        "print(s.pop())\n",
        "print(s.pop())\n",
        "# print(s.pop())  # <-- indexError\n"
      ],
      "execution_count": 6,
      "outputs": [
        {
          "output_type": "stream",
          "text": [
            "[12, 5, 55]\n",
            "55\n",
            "5\n",
            "12\n"
          ],
          "name": "stdout"
        }
      ]
    },
    {
      "cell_type": "code",
      "metadata": {
        "colab": {
          "base_uri": "https://localhost:8080/"
        },
        "id": "Dw3BVbdRC96K",
        "outputId": "cef8a14c-67ee-4107-cac7-1fd19c1277b1"
      },
      "source": [
        "s = []\n",
        "s.append(1)\n",
        "s.append(2)\n",
        "s.append(3)\n",
        "print(s)\n",
        "\n",
        "print(s[1]) # <--  In stack we should't be able to do this"
      ],
      "execution_count": 9,
      "outputs": [
        {
          "output_type": "stream",
          "text": [
            "[1, 2, 3]\n",
            "2\n"
          ],
          "name": "stdout"
        }
      ]
    },
    {
      "cell_type": "markdown",
      "metadata": {
        "id": "5USqe00vEjZV"
      },
      "source": [
        "## **Writing Our Own**"
      ]
    },
    {
      "cell_type": "code",
      "metadata": {
        "id": "7BMp4UOZEnQy"
      },
      "source": [
        "class Stack:\n",
        "  def __init__(self):\n",
        "    self.l = []\n",
        "\n",
        "  def push(self,val):\n",
        "    self.l.append(val)\n",
        "  \n",
        "  def pop(self):\n",
        "    return self.l.pop()\n",
        "  \n",
        "  def peek(self):\n",
        "    return self.l[-1]"
      ],
      "execution_count": 13,
      "outputs": []
    },
    {
      "cell_type": "code",
      "metadata": {
        "id": "W7WL5kQ9FFXJ"
      },
      "source": [
        "s = Stack()\n",
        "s.push(1)\n",
        "s.push(2)\n",
        "s.push(3)\n",
        "\n",
        "# print(s[1]) # <-- error ..... which , for us is success since we have a stack\n",
        "# print(s.l[1])\n",
        "# print(s.pop())\n"
      ],
      "execution_count": 15,
      "outputs": []
    },
    {
      "cell_type": "code",
      "metadata": {
        "colab": {
          "base_uri": "https://localhost:8080/"
        },
        "id": "0bR9OXQ1Gf1f",
        "outputId": "e9723944-feca-4ebb-c164-0d0a901d45a7"
      },
      "source": [
        "print(s.peek())\n",
        "print(s.pop())\n",
        "print(s.peek())\n",
        "print(s.pop())"
      ],
      "execution_count": 16,
      "outputs": [
        {
          "output_type": "stream",
          "text": [
            "3\n",
            "3\n",
            "2\n",
            "2\n"
          ],
          "name": "stdout"
        }
      ]
    },
    {
      "cell_type": "markdown",
      "metadata": {
        "id": "HopmzowvKwFV"
      },
      "source": [
        "# **Case Study: Bracket Matching**"
      ]
    },
    {
      "cell_type": "code",
      "metadata": {
        "colab": {
          "base_uri": "https://localhost:8080/"
        },
        "id": "qZ0VMfIbK4Jh",
        "outputId": "bfa4cb66-fc34-45ca-cdb1-9a90cacb1c89"
      },
      "source": [
        "a = '123'\n",
        "b = '456'\n",
        "dict (zip(a,b))"
      ],
      "execution_count": 17,
      "outputs": [
        {
          "output_type": "execute_result",
          "data": {
            "text/plain": [
              "{'1': '4', '2': '5', '3': '6'}"
            ]
          },
          "metadata": {
            "tags": []
          },
          "execution_count": 17
        }
      ]
    },
    {
      "cell_type": "code",
      "metadata": {
        "colab": {
          "base_uri": "https://localhost:8080/"
        },
        "id": "x8qku8ZNK_QK",
        "outputId": "ba1ebdbc-18f0-4f25-f086-0f5089ff4293"
      },
      "source": [
        "opening = '({['\n",
        "closing = ')}]'\n",
        "mapping = dict(zip(opening,closing))\n",
        "print(mapping)"
      ],
      "execution_count": 18,
      "outputs": [
        {
          "output_type": "stream",
          "text": [
            "{'(': ')', '{': '}', '[': ']'}\n"
          ],
          "name": "stdout"
        }
      ]
    },
    {
      "cell_type": "code",
      "metadata": {
        "id": "CzvGovZWLgUu"
      },
      "source": [
        "def is_matched(string):\n",
        "  opening = '({['\n",
        "  closing = ')}]'\n",
        "  mapping = dict(zip(opening,closing))\n",
        "\n",
        "  stack = []\n",
        "\n",
        "  for c in string:\n",
        "    # case 1\n",
        "    if c not in mapping.values() and c not in mapping.keys():\n",
        "      continue\n",
        "\n",
        "    # case 2\n",
        "    # automatically checks only starring brackerts\n",
        "    if c in mapping:\n",
        "      stack.append(mapping[c]) # we'll be looking for corresponding closing braket\n",
        "\n",
        "    # case 3 : has to be closing bracket if we get here\n",
        "    elif len(stack) == 0 or c != stack.pop():\n",
        "      return False\n",
        "\n",
        "    return len(stack) == 0\n"
      ],
      "execution_count": 38,
      "outputs": []
    },
    {
      "cell_type": "code",
      "metadata": {
        "colab": {
          "base_uri": "https://localhost:8080/"
        },
        "id": "sAXIwPzCL7PL",
        "outputId": "41e71166-d83b-4f13-a0db-62df61dff255"
      },
      "source": [
        " string = \"{[[]]}{()}}\"\n",
        " is_matched(string)"
      ],
      "execution_count": 39,
      "outputs": [
        {
          "output_type": "execute_result",
          "data": {
            "text/plain": [
              "False"
            ]
          },
          "metadata": {
            "tags": []
          },
          "execution_count": 39
        }
      ]
    },
    {
      "cell_type": "code",
      "metadata": {
        "colab": {
          "base_uri": "https://localhost:8080/"
        },
        "id": "RDEHCp5TQXkc",
        "outputId": "b6c45911-f177-45c4-b8d0-c1e253f46593"
      },
      "source": [
        "string = \"2 * (2 * 5 ) * ((2 * 2) * 5 )\"\n",
        "is_matched(string)"
      ],
      "execution_count": 40,
      "outputs": [
        {
          "output_type": "execute_result",
          "data": {
            "text/plain": [
              "False"
            ]
          },
          "metadata": {
            "tags": []
          },
          "execution_count": 40
        }
      ]
    },
    {
      "cell_type": "code",
      "metadata": {
        "colab": {
          "base_uri": "https://localhost:8080/"
        },
        "id": "qe02DqMfSVuF",
        "outputId": "498c1fc5-0f90-452d-fbd4-9a1211f4c25a"
      },
      "source": [
        "string = \"2 + (3 * 5) * ((2 * 2) * 5) )\"\n",
        "is_matched(string)"
      ],
      "execution_count": 41,
      "outputs": [
        {
          "output_type": "execute_result",
          "data": {
            "text/plain": [
              "False"
            ]
          },
          "metadata": {
            "tags": []
          },
          "execution_count": 41
        }
      ]
    },
    {
      "cell_type": "markdown",
      "metadata": {
        "id": "8GYgSvhMTkrX"
      },
      "source": [
        "# **Case Study: Binary to Decimal Conversion**"
      ]
    },
    {
      "cell_type": "code",
      "metadata": {
        "id": "JRl8dwofTuFY"
      },
      "source": [
        "def dec_to_bin(num):\n",
        "  s1 = []\n",
        "  while num != 0:\n",
        "    remainder = num % 2  # remainder will always be 0 or 1\n",
        "    num = num // 2       # division by 2 gets rid of the least\n",
        "    s1.append(remainder)\n",
        "\n",
        "  ret = ''\n",
        "  while s1:\n",
        "    ret += str(s1.pop()) # comes out in reverse order of course\n",
        "\n",
        "  return ret"
      ],
      "execution_count": 43,
      "outputs": []
    },
    {
      "cell_type": "code",
      "metadata": {
        "colab": {
          "base_uri": "https://localhost:8080/",
          "height": 35
        },
        "id": "hZheIDgJUn9B",
        "outputId": "9cd2c9e6-2fc2-43ea-d75b-74f9073b8c9c"
      },
      "source": [
        "dec_to_bin(8)"
      ],
      "execution_count": 44,
      "outputs": [
        {
          "output_type": "execute_result",
          "data": {
            "application/vnd.google.colaboratory.intrinsic+json": {
              "type": "string"
            },
            "text/plain": [
              "'1000'"
            ]
          },
          "metadata": {
            "tags": []
          },
          "execution_count": 44
        }
      ]
    },
    {
      "cell_type": "code",
      "metadata": {
        "colab": {
          "base_uri": "https://localhost:8080/",
          "height": 35
        },
        "id": "b5t8cSeHVYzY",
        "outputId": "827d1386-2fed-419f-b1de-8cb33d4ff4a3"
      },
      "source": [
        "dec_to_bin(9)"
      ],
      "execution_count": 45,
      "outputs": [
        {
          "output_type": "execute_result",
          "data": {
            "application/vnd.google.colaboratory.intrinsic+json": {
              "type": "string"
            },
            "text/plain": [
              "'1001'"
            ]
          },
          "metadata": {
            "tags": []
          },
          "execution_count": 45
        }
      ]
    },
    {
      "cell_type": "code",
      "metadata": {
        "id": "JOVVPfCeVzNg"
      },
      "source": [
        ""
      ],
      "execution_count": null,
      "outputs": []
    }
  ]
}