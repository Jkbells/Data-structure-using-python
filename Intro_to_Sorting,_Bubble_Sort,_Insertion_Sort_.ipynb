{
  "nbformat": 4,
  "nbformat_minor": 0,
  "metadata": {
    "colab": {
      "name": "Intro to Sorting, Bubble Sort, Insertion Sort .ipynb",
      "provenance": [],
      "authorship_tag": "ABX9TyMSQSOk4VRB1bK8h1nbWdsc",
      "include_colab_link": true
    },
    "kernelspec": {
      "name": "python3",
      "display_name": "Python 3"
    },
    "language_info": {
      "name": "python"
    }
  },
  "cells": [
    {
      "cell_type": "markdown",
      "metadata": {
        "id": "view-in-github",
        "colab_type": "text"
      },
      "source": [
        "<a href=\"https://colab.research.google.com/github/jkbells/Data-structure-using-python/blob/main/Intro_to_Sorting%2C_Bubble_Sort%2C_Insertion_Sort_.ipynb\" target=\"_parent\"><img src=\"https://colab.research.google.com/assets/colab-badge.svg\" alt=\"Open In Colab\"/></a>"
      ]
    },
    {
      "cell_type": "markdown",
      "metadata": {
        "id": "rftS6nBD-bkA"
      },
      "source": [
        "# **Bubble Sort**"
      ]
    },
    {
      "cell_type": "code",
      "metadata": {
        "id": "cDLIb9o_-eiJ"
      },
      "source": [
        "def bubble_sort(l):\n",
        "  n = len(l)\n",
        "  # print(n)\n",
        "\n",
        "  # outer loop, Goes over the whole thing 'n' times\n",
        "  # (because each time, one 'highest' will have moved to the end)\n",
        "  for i in range(n):\n",
        "\n",
        "    # try to bubble the highest one up\n",
        "    for j in range(0,(n-i)-1):\n",
        "\n",
        "      # compare pairs, move higher one up (the highest will always reach the end)\n",
        "      if l[j] > l[j+1]:\n",
        "        l[j], l[j+1] = l[j+1], l[j] "
      ],
      "execution_count": null,
      "outputs": []
    },
    {
      "cell_type": "code",
      "metadata": {
        "colab": {
          "base_uri": "https://localhost:8080/"
        },
        "id": "WsPbavXJ_QHS",
        "outputId": "5b16bc30-2257-473e-f6f3-2abfe1482722"
      },
      "source": [
        "l = [1, 2, 4, 1, 2, 5, 5, 6, 1, 110, 15]\n",
        "bubble_sort(l)\n",
        "print(l)"
      ],
      "execution_count": null,
      "outputs": [
        {
          "output_type": "stream",
          "text": [
            "[1, 1, 1, 2, 2, 4, 5, 5, 6, 15, 110]\n"
          ],
          "name": "stdout"
        }
      ]
    },
    {
      "cell_type": "markdown",
      "metadata": {
        "id": "_q0IO8czCunG"
      },
      "source": [
        "# **Insertion Sort**"
      ]
    },
    {
      "cell_type": "code",
      "metadata": {
        "id": "4SflJ9YpCz_t"
      },
      "source": [
        "def insertion_sort(l):\n",
        "\n",
        "  # Go through all elements (except first).\n",
        "  # Call it 'key'\n",
        "  # Each time, the key would be 'inserted' in its place\n",
        "  # At each iteration, stuff less than i would be sorted already\n",
        "\n",
        "  for i in range(1,len(l)):\n",
        "\n",
        "    key = l[i] # hold this key\n",
        "\n",
        "    # start comparing keys to things on its left:\n",
        "    # stop when less or equal value found (or we reach left end)\n",
        "\n",
        "    j = i-1\n",
        "    while j >= 0 and key < l[j]:\n",
        "      l[j+1] = l[j]  # move this to right , slot left on j\n",
        "      j -= 1\n",
        "\n",
        "    l[j+1] = key # place key in free slot .. (j+1 because we decremented j above) "
      ],
      "execution_count": null,
      "outputs": []
    },
    {
      "cell_type": "code",
      "metadata": {
        "colab": {
          "base_uri": "https://localhost:8080/"
        },
        "id": "JPsXkbAQDyRG",
        "outputId": "b9935836-53a1-4541-8d16-805f9efea4e3"
      },
      "source": [
        "l = [1, 2, 4, 1, 2, 5, 6, 1, 110, 15]\n",
        "insertion_sort(l)\n",
        "print(l)"
      ],
      "execution_count": null,
      "outputs": [
        {
          "output_type": "stream",
          "text": [
            "[1, 1, 1, 2, 2, 4, 5, 6, 15, 110]\n"
          ],
          "name": "stdout"
        }
      ]
    }
  ]
}