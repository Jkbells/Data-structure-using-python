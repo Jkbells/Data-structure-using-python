{
  "nbformat": 4,
  "nbformat_minor": 0,
  "metadata": {
    "colab": {
      "name": "Untitled7.ipynb",
      "provenance": [],
      "authorship_tag": "ABX9TyOFxAMvbULpRjOGfIphUnzU",
      "include_colab_link": true
    },
    "kernelspec": {
      "name": "python3",
      "display_name": "Python 3"
    },
    "language_info": {
      "name": "python"
    }
  },
  "cells": [
    {
      "cell_type": "markdown",
      "metadata": {
        "id": "view-in-github",
        "colab_type": "text"
      },
      "source": [
        "<a href=\"https://colab.research.google.com/github/Mythical-stack/Data-structure-using-python/blob/main/Circular-LinkedList.ipynb\" target=\"_parent\"><img src=\"https://colab.research.google.com/assets/colab-badge.svg\" alt=\"Open In Colab\"/></a>"
      ]
    },
    {
      "cell_type": "markdown",
      "metadata": {
        "id": "VuE8exX--Nqp"
      },
      "source": [
        "# Circular Linked List (or Ring Data Strucutre)\n",
        "\n",
        "This is also very similar to a regular linked list --except the last node is \"linked\" to the head thus creating a ring.\n",
        "\n",
        "Due to this,we can't loo until None is reached because we will never have a None in the next now --even for a single node! so, we need to keep track of the head and always loop \"until we reach back to head\"\n"
      ]
    },
    {
      "cell_type": "code",
      "metadata": {
        "id": "zoBWvamN-7Gl"
      },
      "source": [
        "class Node:\n",
        "  def __init__(self,data=None):\n",
        "    self.val = data\n",
        "    self.next = None\n",
        "\n",
        "class Ring:\n",
        "  def __init__(self):\n",
        "    self.head = None"
      ],
      "execution_count": 1,
      "outputs": []
    },
    {
      "cell_type": "markdown",
      "metadata": {
        "id": "E93HjwdL_K2s"
      },
      "source": [
        "Let's explain this reasoning throught trying to output the ring."
      ]
    },
    {
      "cell_type": "code",
      "metadata": {
        "id": "lGwobJm__JyY"
      },
      "source": [
        "def __str__(self):\n",
        "  ret_str = '['\n",
        "  temp = self.head\n",
        "  while temp is not None:\n",
        "    ret_str += str(temp.val) + ','\n",
        "    temp = temp.next\n",
        "\n",
        "    if temp == self.head: # different for ring (change)\n",
        "      break\n",
        "\n",
        "  ret_str = ret_str.rstrip(',')\n",
        "  ret_str +=']'\n",
        "\n",
        "  return ret_str\n",
        "\n",
        "Ring.__str__ = __str__\n"
      ],
      "execution_count": 2,
      "outputs": []
    },
    {
      "cell_type": "code",
      "metadata": {
        "id": "oIc8VsQRAh-Q"
      },
      "source": [
        "def _get_last(self):   # helper function (change) \n",
        "  # no node,no last  \n",
        "  if self.head is None:\n",
        "    return None\n",
        "\n",
        "  # if just one node,it's last too\n",
        "  if self.head.next == self.head:\n",
        "    return self.head\n",
        "\n",
        "  # at least two nodes: advance once\n",
        "  temp = self.head.next\n",
        "  while temp.next != self.head:\n",
        "    temp = temp.next\n",
        "\n",
        "  return temp\n",
        "\n",
        "Ring._get_last = _get_last\n",
        "\n",
        "   \n"
      ],
      "execution_count": 3,
      "outputs": []
    },
    {
      "cell_type": "code",
      "metadata": {
        "id": "zdmlJaQuCN19"
      },
      "source": [
        "def insert(self,index,val):\n",
        "  new_node = Node(val)\n",
        "\n",
        "  last = self._get_last()  # need last for ring(change)\n",
        "\n",
        "  #insetion at index 0 is different\n",
        "  if index == 0:\n",
        "\n",
        "    new_node.next = self.head\n",
        "    self.head = new_node\n",
        "\n",
        "    #also need to set the last pointer to this new head (change)\n",
        "    if last is None:\n",
        "      self.head.next = self.head # first node ever being inserted\n",
        "    else:\n",
        "      last.next = new_node\n",
        "\n",
        "    return \n",
        "\n",
        "  # for other indices\n",
        "  temp = self.head\n",
        "\n",
        "  counter = 0\n",
        "  while temp is not None and counter < index: \n",
        "\n",
        "    prev = temp\n",
        "    temp = temp.next\n",
        "    counter +=1\n",
        "\n",
        "  prev.next = new_node\n",
        "  new_node.next = temp\n",
        "\n",
        "Ring.insert = insert \n"
      ],
      "execution_count": 5,
      "outputs": []
    },
    {
      "cell_type": "code",
      "metadata": {
        "colab": {
          "base_uri": "https://localhost:8080/"
        },
        "id": "zHLDRNhLEP7K",
        "outputId": "51f1d3af-6af6-47e4-f715-b9f1699ed68f"
      },
      "source": [
        "r = Ring()\n",
        "r.insert(0,1)\n",
        "r.insert(0,2)\n",
        "r.insert(1,3)\n",
        "r.insert(7,5) # different behavrior since it's a ring!\n",
        "print(r)\n"
      ],
      "execution_count": 6,
      "outputs": [
        {
          "output_type": "stream",
          "text": [
            "[2,5,3,1]\n"
          ],
          "name": "stdout"
        }
      ]
    },
    {
      "cell_type": "code",
      "metadata": {
        "colab": {
          "base_uri": "https://localhost:8080/"
        },
        "id": "EDT_BUl6ILkS",
        "outputId": "47812c51-279b-4871-db90-c77c480e0a7d"
      },
      "source": [
        " r._get_last().next == r.head # just check if it's actually a ring"
      ],
      "execution_count": 7,
      "outputs": [
        {
          "output_type": "execute_result",
          "data": {
            "text/plain": [
              "True"
            ]
          },
          "metadata": {
            "tags": []
          },
          "execution_count": 7
        }
      ]
    },
    {
      "cell_type": "code",
      "metadata": {
        "id": "ieEoagykJwt1"
      },
      "source": [
        "def remove(self,val):\n",
        "  #empty ring case\n",
        "  if self.head is None:\n",
        "    return \n",
        "\n",
        "  temp = self.head\n",
        "  last = self._get_last() #(change)\n",
        "\n",
        "  # first node matches case #(change)\n",
        "  if temp.val == val:\n",
        "    if last == self.head:\n",
        "      self.head = None # just one node.Now gone\n",
        "    \n",
        "    else:\n",
        "      self.head = temp.next\n",
        "      last.next = self.head\n",
        "\n",
        "    return \n",
        "\n",
        "  # let's move to next nodes\n",
        "  # temp holds the value of the node that will be deleted\n",
        "  prev = temp #(change)\n",
        "  temp = temp.next #(change)\n",
        "\n",
        "  while temp != last.next: \n",
        "    if temp.val == val:\n",
        "      break\n",
        "\n",
        "    prev = temp\n",
        "    temp = temp.next\n",
        "\n",
        "  if temp == last.next:   # not found\n",
        "    return \n",
        "\n",
        "  prev.next = temp.next # just lose the reference to delete node\n",
        "\n",
        "Ring.remove = remove"
      ],
      "execution_count": 8,
      "outputs": []
    },
    {
      "cell_type": "code",
      "metadata": {
        "colab": {
          "base_uri": "https://localhost:8080/"
        },
        "id": "Wj9FBekwNpKc",
        "outputId": "710c332b-eb93-407b-a3c6-7b273e841f73"
      },
      "source": [
        "r = Ring()\n",
        "r.insert(0,1)\n",
        "r.insert(1,2)\n",
        "r.insert(1,3)\n",
        "r.insert(7,5)\n",
        "\n",
        "print(r)\n",
        "r.remove(1)\n",
        "print(r)"
      ],
      "execution_count": 10,
      "outputs": [
        {
          "output_type": "stream",
          "text": [
            "[1,5,3,2]\n",
            "[5,3,2]\n"
          ],
          "name": "stdout"
        }
      ]
    },
    {
      "cell_type": "code",
      "metadata": {
        "id": "OQOfYD_CONha"
      },
      "source": [
        " "
      ],
      "execution_count": null,
      "outputs": []
    }
  ]
}