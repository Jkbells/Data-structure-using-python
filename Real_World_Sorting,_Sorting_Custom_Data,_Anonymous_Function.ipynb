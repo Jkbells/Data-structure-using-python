{
  "nbformat": 4,
  "nbformat_minor": 0,
  "metadata": {
    "colab": {
      "name": "Real World Sorting, Sorting Custom Data, Anonymous Function.ipynb",
      "provenance": [],
      "collapsed_sections": [],
      "authorship_tag": "ABX9TyNHhZQN+Fztj12dbvZmhcNi",
      "include_colab_link": true
    },
    "kernelspec": {
      "name": "python3",
      "display_name": "Python 3"
    },
    "language_info": {
      "name": "python"
    }
  },
  "cells": [
    {
      "cell_type": "markdown",
      "metadata": {
        "id": "view-in-github",
        "colab_type": "text"
      },
      "source": [
        "<a href=\"https://colab.research.google.com/github/jkbells/Data-structure-using-python/blob/main/Real_World_Sorting%2C_Sorting_Custom_Data%2C_Anonymous_Function.ipynb\" target=\"_parent\"><img src=\"https://colab.research.google.com/assets/colab-badge.svg\" alt=\"Open In Colab\"/></a>"
      ]
    },
    {
      "cell_type": "markdown",
      "metadata": {
        "id": "OKeZrAAxv0_9"
      },
      "source": [
        "# **Sorting in the Real World**\n",
        "\n",
        "# *Descending Sorts*"
      ]
    },
    {
      "cell_type": "code",
      "metadata": {
        "id": "LiNeTeMavPX2"
      },
      "source": [
        "def selection_sort(l):\n",
        "  n = len(l)\n",
        "\n",
        "  # for each element in the list (starting from left)\n",
        "  for i in range(n):\n",
        "    idx = i   # find the replacement ....\n",
        "\n",
        "    # .... in the +rest+ of the list\n",
        "    for j in range(i+1, n):\n",
        "\n",
        "      if l[j] > l[idx]:  # changed to > for descending\n",
        "        idx = j\n",
        "\n",
        "   # swap the replacement with current element, now we have (sorted stuff till i)\n",
        "    l[i] , l[idx] = l[idx], l[i]\n"
      ],
      "execution_count": 3,
      "outputs": []
    },
    {
      "cell_type": "code",
      "metadata": {
        "colab": {
          "base_uri": "https://localhost:8080/"
        },
        "id": "cKIZKoD2xFFR",
        "outputId": "b50e6f85-5b0d-43c0-8781-9a359078fd6d"
      },
      "source": [
        "l = [1,2,4,1,2,5,5,6,1,110,15]\n",
        "selection_sort(l)\n",
        "print(l)"
      ],
      "execution_count": 5,
      "outputs": [
        {
          "output_type": "stream",
          "text": [
            "[110, 15, 6, 5, 5, 4, 2, 2, 1, 1, 1]\n"
          ],
          "name": "stdout"
        }
      ]
    },
    {
      "cell_type": "markdown",
      "metadata": {
        "id": "AABtc1GDzCiQ"
      },
      "source": [
        "**But there's better way**"
      ]
    },
    {
      "cell_type": "code",
      "metadata": {
        "id": "gbDHTcZ6xbFx"
      },
      "source": [
        "def less_than(a, b):\n",
        "  return a < b"
      ],
      "execution_count": 6,
      "outputs": []
    },
    {
      "cell_type": "code",
      "metadata": {
        "id": "yEMspcnkzSja"
      },
      "source": [
        "def selection_sort(l , compare_with):\n",
        "  n = len(l)\n",
        "\n",
        "  # for each element in the list (starting form left)\n",
        "  for i in range(n):\n",
        "    min_idx = i      # find the mininum ... \n",
        "\n",
        "    # ..... is the *rest* of the list\n",
        "    for j in range(i+1, n):\n",
        "\n",
        "      if compare_with(l[j] , l[min_idx]):   # now the *comparison is out-source\n",
        "        min_idx = j\n",
        "\n",
        "      # swap the minimum with current element, now we have (sorted stuff till i)\n",
        "      l[i], l[min_idx] = l[min_idx], l[i]\n",
        "      "
      ],
      "execution_count": 16,
      "outputs": []
    },
    {
      "cell_type": "code",
      "metadata": {
        "colab": {
          "base_uri": "https://localhost:8080/"
        },
        "id": "nSc7uL3y0Epc",
        "outputId": "c0279597-5aff-417e-bef6-2efd98ef7362"
      },
      "source": [
        "l = [1, 2, 4, 1, 2, 5, 6, 1, 110, 15]\n",
        "selection_sort(l, less_than)\n",
        "print(l)"
      ],
      "execution_count": 17,
      "outputs": [
        {
          "output_type": "stream",
          "text": [
            "[1, 1, 1, 2, 2, 4, 5, 6, 15, 110]\n"
          ],
          "name": "stdout"
        }
      ]
    },
    {
      "cell_type": "code",
      "metadata": {
        "id": "4XYqRVOC0kw_"
      },
      "source": [
        "def greater_than(a, b):\n",
        "  return a > b"
      ],
      "execution_count": 18,
      "outputs": []
    },
    {
      "cell_type": "code",
      "metadata": {
        "colab": {
          "base_uri": "https://localhost:8080/"
        },
        "id": "OfJYuvV-12gO",
        "outputId": "c109e6cb-d10a-432e-a571-1cf11ee1a4d4"
      },
      "source": [
        "l = [1, 2, 4, 1, 2, 5, 5, 6, 1, 110, 15]\n",
        "selection_sort(l, greater_than)\n",
        "print(l)"
      ],
      "execution_count": 19,
      "outputs": [
        {
          "output_type": "stream",
          "text": [
            "[15, 110, 6, 5, 5, 4, 2, 2, 1, 1, 1]\n"
          ],
          "name": "stdout"
        }
      ]
    },
    {
      "cell_type": "markdown",
      "metadata": {
        "id": "0oqVtT0J2Ade"
      },
      "source": [
        "# **Taking it Even Further**\n",
        "\n",
        "Now we call do all sorts of stuff with this without making a single change to our selection sort code."
      ]
    },
    {
      "cell_type": "code",
      "metadata": {
        "id": "Qzafu31u17-P"
      },
      "source": [
        "all_tuples = [ (24,25), (1,2), (2,4), (3,5) ]"
      ],
      "execution_count": 20,
      "outputs": []
    },
    {
      "cell_type": "code",
      "metadata": {
        "id": "NW_AhZ3F3GHM"
      },
      "source": [
        "def tuple_less_than(a, b):\n",
        "  return sum(a) < sum(b)\n",
        "def tuple_greater_than(a, b):\n",
        "  return sum(a) > sum(b)"
      ],
      "execution_count": 21,
      "outputs": []
    },
    {
      "cell_type": "code",
      "metadata": {
        "colab": {
          "base_uri": "https://localhost:8080/"
        },
        "id": "9V-H3yvQ3Ssu",
        "outputId": "5bb0db1a-a0be-4029-9d69-8f1456a29fd5"
      },
      "source": [
        "print(\"Ascending:\\t\", end=\"\")\n",
        "selection_sort(all_tuples, tuple_less_than)\n",
        "print(all_tuples)\n",
        "\n",
        "print(\"Descending:\\t\", end=\"\")\n",
        "selection_sort(all_tuples,tuple_greater_than)\n",
        "print(all_tuples)"
      ],
      "execution_count": 23,
      "outputs": [
        {
          "output_type": "stream",
          "text": [
            "Ascending:\t[(1, 2), (3, 5), (2, 4), (24, 25)]\n",
            "Descending:\t[(24, 25), (2, 4), (3, 5), (1, 2)]\n"
          ],
          "name": "stdout"
        }
      ]
    },
    {
      "cell_type": "markdown",
      "metadata": {
        "id": "aUWCyjpv4VW0"
      },
      "source": [
        "# **Sorting in Python**\n",
        "\n",
        "if you have a list of dictionaries -- each representing a student, for instance"
      ]
    },
    {
      "cell_type": "code",
      "metadata": {
        "id": "1O-Rgcxt3135"
      },
      "source": [
        " d = [\n",
        "      {'name': 'khalid' , 'age': 5  },\n",
        "      {'name': 'usman'  , 'age': 7  },\n",
        "      {'name': 'ali'    , 'age': 12 },\n",
        "      {'name': 'farooq' , 'age': 3  },\n",
        " ]"
      ],
      "execution_count": 29,
      "outputs": []
    },
    {
      "cell_type": "code",
      "metadata": {
        "colab": {
          "base_uri": "https://localhost:8080/"
        },
        "id": "RakaoUFc5XlF",
        "outputId": "bf7b1b7c-c14d-47bf-b0b2-e60f72489d68"
      },
      "source": [
        "def d_less_than(a ,b):\n",
        "  return a['age'] < b['age']\n",
        "\n",
        "selection_sort(d, d_less_than)\n",
        "print(d)"
      ],
      "execution_count": 30,
      "outputs": [
        {
          "output_type": "stream",
          "text": [
            "[{'name': 'farooq', 'age': 3}, {'name': 'khalid', 'age': 5}, {'name': 'usman', 'age': 7}, {'name': 'ali', 'age': 12}]\n"
          ],
          "name": "stdout"
        }
      ]
    },
    {
      "cell_type": "code",
      "metadata": {
        "id": "NAyi1IUo5bCc"
      },
      "source": [
        "def student_age(a):\n",
        "  return a['age']"
      ],
      "execution_count": 31,
      "outputs": []
    },
    {
      "cell_type": "code",
      "metadata": {
        "colab": {
          "base_uri": "https://localhost:8080/"
        },
        "id": "21pgi76J5e6C",
        "outputId": "5872c1ea-8784-4ac5-bd3d-a49577b0a9c8"
      },
      "source": [
        "print(d)\n",
        "d.sort(key=student_age)\n",
        "print(d)"
      ],
      "execution_count": 32,
      "outputs": [
        {
          "output_type": "stream",
          "text": [
            "[{'name': 'farooq', 'age': 3}, {'name': 'khalid', 'age': 5}, {'name': 'usman', 'age': 7}, {'name': 'ali', 'age': 12}]\n",
            "[{'name': 'farooq', 'age': 3}, {'name': 'khalid', 'age': 5}, {'name': 'usman', 'age': 7}, {'name': 'ali', 'age': 12}]\n"
          ],
          "name": "stdout"
        }
      ]
    },
    {
      "cell_type": "markdown",
      "metadata": {
        "id": "elLW6hLO7TRT"
      },
      "source": [
        "# **Sorting Objects of Custom Classes**"
      ]
    },
    {
      "cell_type": "code",
      "metadata": {
        "id": "yOe8uEjw6qK0"
      },
      "source": [
        " class Student:\n",
        "   def __init__(self,name,age):\n",
        "     self.name = name\n",
        "     self.age = age\n",
        "   def __str__(self):\n",
        "    return self.name + ':' + str(self.age)"
      ],
      "execution_count": 2,
      "outputs": []
    },
    {
      "cell_type": "code",
      "metadata": {
        "id": "prb_upwDkv2r"
      },
      "source": [
        "s1 = Student('Wajid', 5)\n",
        "s2 = Student('Usman', 5)\n",
        "s3 = Student('Ali', 5)\n",
        "\n",
        "s = [s1 , s2 , s3]"
      ],
      "execution_count": 4,
      "outputs": []
    },
    {
      "cell_type": "markdown",
      "metadata": {
        "id": "C1pSNd9UlAn6"
      },
      "source": [
        "You don't even have to give the function a name -- just use an anonymous function like so:"
      ]
    },
    {
      "cell_type": "code",
      "metadata": {
        "colab": {
          "base_uri": "https://localhost:8080/"
        },
        "id": "Ljc2iJRQk7wm",
        "outputId": "ffce4df1-ed63-4e49-e5e7-278957101015"
      },
      "source": [
        "for i in ss1 = Student('Wajid', 5)\n",
        ":\n",
        "  print(i)"
      ],
      "execution_count": 5,
      "outputs": [
        {
          "output_type": "stream",
          "text": [
            "Wajid:5\n",
            "Usman:5\n",
            "Ali:5\n"
          ],
          "name": "stdout"
        }
      ]
    },
    {
      "cell_type": "code",
      "metadata": {
        "id": "lw9Wp0g6l-E-"
      },
      "source": [
        "s.sort(key=lambda x: x.age)   # reverse"
      ],
      "execution_count": 9,
      "outputs": []
    },
    {
      "cell_type": "code",
      "metadata": {
        "colab": {
          "base_uri": "https://localhost:8080/"
        },
        "id": "fba_58eemQZU",
        "outputId": "bf530495-12ee-4711-a358-7705d0a17ff0"
      },
      "source": [
        "for i in s:\n",
        "  print(i)"
      ],
      "execution_count": 10,
      "outputs": [
        {
          "output_type": "stream",
          "text": [
            "Wajid:5\n",
            "Usman:5\n",
            "Ali:5\n"
          ],
          "name": "stdout"
        }
      ]
    },
    {
      "cell_type": "code",
      "metadata": {
        "id": "05fkTVqamSR2"
      },
      "source": [
        " "
      ],
      "execution_count": null,
      "outputs": []
    }
  ]
}