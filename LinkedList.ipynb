{
  "nbformat": 4,
  "nbformat_minor": 0,
  "metadata": {
    "colab": {
      "name": "Untitled5.ipynb",
      "provenance": [],
      "authorship_tag": "ABX9TyM+IIkjRL6FCS5fqXxLL7fP",
      "include_colab_link": true
    },
    "kernelspec": {
      "name": "python3",
      "display_name": "Python 3"
    },
    "language_info": {
      "name": "python"
    }
  },
  "cells": [
    {
      "cell_type": "markdown",
      "metadata": {
        "id": "view-in-github",
        "colab_type": "text"
      },
      "source": [
        "<a href=\"https://colab.research.google.com/github/Mythical-stack/Data-structure-using-python/blob/main/LinkedList.ipynb\" target=\"_parent\"><img src=\"https://colab.research.google.com/assets/colab-badge.svg\" alt=\"Open In Colab\"/></a>"
      ]
    },
    {
      "cell_type": "markdown",
      "metadata": {
        "id": "ZDtPo9Z7qUUM"
      },
      "source": [
        "# *Linked List*"
      ]
    },
    {
      "cell_type": "markdown",
      "metadata": {
        "id": "21oJTwjRqgXK"
      },
      "source": [
        ""
      ]
    },
    {
      "cell_type": "code",
      "metadata": {
        "id": "VC68SDMVqeD9"
      },
      "source": [
        "class Node:\n",
        "  def __init__(self,data=None):\n",
        "    self.val = data\n",
        "    self.next = None\n",
        "\n",
        "class LinkedList:\n",
        "  def __init__(self):\n",
        "    self.head = None"
      ],
      "execution_count": null,
      "outputs": []
    },
    {
      "cell_type": "code",
      "metadata": {
        "id": "5pPy3gg_q4GQ"
      },
      "source": [
        ""
      ],
      "execution_count": null,
      "outputs": []
    },
    {
      "cell_type": "markdown",
      "metadata": {
        "id": "3JGJwx4D356P"
      },
      "source": [
        "**The push Operation**\n",
        "\n",
        "Push operation has two cases:\n",
        "\n",
        "1.when there are no nodes\n",
        "\n",
        "2.When there is already one or more nodes\n"
      ]
    },
    {
      "cell_type": "code",
      "metadata": {
        "id": "NB__JwK64SZD"
      },
      "source": [
        "def push(self,val):\n",
        "  new_node = Node(val)\n",
        "\n",
        "  # no node currently\n",
        "  if self.head is None:\n",
        "    self.head = new_node\n",
        "    return \n",
        "  # otherwise, reach the end and then insert\n",
        "  last = self.head\n",
        "  while last.next is not None:\n",
        "    last = last.next\n",
        "  \n",
        "  last.next = new_node\n",
        "\n",
        "LinkedList.push = push # we can add fucntion to classes even after"
      ],
      "execution_count": null,
      "outputs": []
    },
    {
      "cell_type": "code",
      "metadata": {
        "id": "nQ_tpreM6cLi"
      },
      "source": [
        ""
      ],
      "execution_count": null,
      "outputs": []
    },
    {
      "cell_type": "markdown",
      "metadata": {
        "id": "OVY9k5dL6pGY"
      },
      "source": [
        "**The Pop Operations**\n",
        "\n",
        "pop also has two cases:\n",
        "\n",
        "1. when there is only one node\n",
        "\n",
        "2. when there are two or more nodes -- in this case, we keep two pointers:\n",
        "prev and temp.Move both until temp is the last.Then set next of prev to None\n"
      ]
    },
    {
      "cell_type": "code",
      "metadata": {
        "id": "GL8uT-gg795X"
      },
      "source": [
        "def pop(self):\n",
        "  if self.head is None:\n",
        "    raise Exception(\"cannot pop. No value.\")\n",
        "\n",
        "  # case where there is only one node\n",
        "  if self.head.next is None:\n",
        "    val = self.head.val\n",
        "    self.head = None # automatic garbage collection\n",
        "    return val\n",
        "\n",
        "  # case where there is 2 or more nodes\n",
        "  # reach the previous to last node\n",
        "  temp = self.head\n",
        "  while temp.next is not None:\n",
        "    prev = temp\n",
        "    temp = temp.next\n",
        "\n",
        "  val = temp.val\n",
        "  prev.next = None\n",
        "  return val\n",
        "\n",
        "LinkedList.pop = pop"
      ],
      "execution_count": null,
      "outputs": []
    },
    {
      "cell_type": "code",
      "metadata": {
        "id": "tcQJ8ZnH9Cfc"
      },
      "source": [
        ""
      ],
      "execution_count": null,
      "outputs": []
    },
    {
      "cell_type": "markdown",
      "metadata": {
        "id": "PsyaNy5A9IZH"
      },
      "source": [
        "# `Conversion to string`\n",
        "\n",
        "python has a special function __str__ . This is called whenever a cast to string is made.(These are called dunder (double underscore)functions.)"
      ]
    },
    {
      "cell_type": "code",
      "metadata": {
        "id": "Rjw7SrQR9lG3"
      },
      "source": [
        "def __str__(self):\n",
        "  ret_str = '['\n",
        "  temp = self.head\n",
        "  while temp is not None: # or just while temp:\n",
        "    ret_str += str(temp.val) + ','\n",
        "    temp = temp.next\n",
        "\n",
        "  ret_str = ret_str.rstrip(',')\n",
        "  ret_str += ']'\n",
        "  return ret_str\n",
        "\n",
        "LinkedList.__str__ = __str__"
      ],
      "execution_count": null,
      "outputs": []
    },
    {
      "cell_type": "code",
      "metadata": {
        "id": "yfw77rDi-cAh"
      },
      "source": [
        "l = LinkedList()\n",
        "l.push(1)\n",
        "l.push(2)\n",
        "l.push(3)\n",
        "\n",
        "print(l)\n",
        "print(\"pop:\",l.pop())\n",
        "print(l)"
      ],
      "execution_count": null,
      "outputs": []
    },
    {
      "cell_type": "code",
      "metadata": {
        "id": "cGIrK1Rd-yDl"
      },
      "source": [
        ""
      ],
      "execution_count": null,
      "outputs": []
    },
    {
      "cell_type": "markdown",
      "metadata": {
        "id": "SX3y9n1WCIeq"
      },
      "source": [
        "# Insertion\n",
        "\n",
        "Again, two cases:\n",
        "\n",
        "1.Insertion at index 0;new head,old head becomes next of this new head\n",
        "\n",
        "2.Insertion at any other index: in this case, move prev and temp forward index times.Then new node between prev and temp."
      ]
    },
    {
      "cell_type": "code",
      "metadata": {
        "id": "Z3rA-jYGClCY"
      },
      "source": [
        "def insert(self,index,val):\n",
        "  new_node = Node(val)\n",
        "\n",
        "  # insertion at index 0 is differen\n",
        "  if index == 0:\n",
        "    new_node.next = self.head\n",
        "    self.head = new_node\n",
        "    return \n",
        "\n",
        "  # for other indices\n",
        "  temp = self.head\n",
        "\n",
        "  counter = 0\n",
        "  while temp is not None and counter < index:\n",
        "    prev = temp\n",
        "    temp = temp.next\n",
        "    counter +=1\n",
        "\n",
        "\n",
        "  prev.next = new_node\n",
        "  new_node.next = temp\n",
        "\n",
        "LinkedList.insert = insert\n"
      ],
      "execution_count": null,
      "outputs": []
    },
    {
      "cell_type": "code",
      "metadata": {
        "id": "lsFMlwpiFE5Y"
      },
      "source": [
        "l = LinkedList()\n",
        "l.push(1)\n",
        "l.push(2)\n",
        "l.push(3)\n",
        "l.insert(0,10)\n",
        "print(l)\n",
        "\n",
        "l.insert(1,11)\n",
        "print(l)"
      ],
      "execution_count": null,
      "outputs": []
    },
    {
      "cell_type": "code",
      "metadata": {
        "id": "j78uAdfAJz62"
      },
      "source": [
        ""
      ],
      "execution_count": null,
      "outputs": []
    },
    {
      "cell_type": "markdown",
      "metadata": {
        "id": "h-knr8zWKIxo"
      },
      "source": [
        "# Remove Operation\n",
        "\n",
        "This is also the same:\n",
        "\n",
        "1.If first node is present and same as val,remove it.\n",
        "\n",
        "2.Otherwise,move prev and temp until temp points to the value.Set next of prev to next of temp.(temp is lost)"
      ]
    },
    {
      "cell_type": "code",
      "metadata": {
        "id": "V25Xkow6KkKa"
      },
      "source": [
        "def remove(self,val):\n",
        "\n",
        "  temp = self.head\n",
        "\n",
        "  #check first node\n",
        "  if temp is not None:\n",
        "    if temp.val == val:\n",
        "      self.head = temp.next\n",
        "      temp = None # not needed , really\n",
        "      return \n",
        "\n",
        "  # let's move to next nodes\n",
        "  # temp holds the value of the node that will be deleted \n",
        "  while temp is not None:\n",
        "    if temp.val == val:\n",
        "      break\n",
        "\n",
        "      prev = temp\n",
        "      temp = temp.next\n",
        "\n",
        "  if temp is None: # not found\n",
        "    return \n",
        "  prev.next = temp.next # just lose the reference to delete node\n",
        "\n",
        "LinkedList.remove = remove\n"
      ],
      "execution_count": null,
      "outputs": []
    },
    {
      "cell_type": "code",
      "metadata": {
        "id": "1PQVvsDPNm9h"
      },
      "source": [
        "l = LinkedList()\n",
        "l.push(1)\n",
        "l.push(2)\n",
        "l.push(3)\n",
        "l.remove(2)\n",
        "print(l)\n",
        "\n",
        "l.remove(12)\n",
        "print(l)\n",
        "\n",
        "l.remove(1)\n",
        "print(l)\n"
      ],
      "execution_count": null,
      "outputs": []
    },
    {
      "cell_type": "code",
      "metadata": {
        "id": "DZfw5B4eOU8j"
      },
      "source": [
        ""
      ],
      "execution_count": null,
      "outputs": []
    }
  ]
}