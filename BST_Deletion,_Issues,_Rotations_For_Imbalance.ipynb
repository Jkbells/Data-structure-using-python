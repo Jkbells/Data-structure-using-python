{
  "nbformat": 4,
  "nbformat_minor": 0,
  "metadata": {
    "colab": {
      "name": "BST: Deletion, Issues, Rotations For Imbalance.ipynb",
      "provenance": [],
      "authorship_tag": "ABX9TyMqY7Jbl+WaPzKwIDn+aEdT",
      "include_colab_link": true
    },
    "kernelspec": {
      "name": "python3",
      "display_name": "Python 3"
    },
    "language_info": {
      "name": "python"
    }
  },
  "cells": [
    {
      "cell_type": "markdown",
      "metadata": {
        "id": "view-in-github",
        "colab_type": "text"
      },
      "source": [
        "<a href=\"https://colab.research.google.com/github/jkbells/Data-structure-using-python/blob/main/BST_Deletion%2C_Issues%2C_Rotations_For_Imbalance.ipynb\" target=\"_parent\"><img src=\"https://colab.research.google.com/assets/colab-badge.svg\" alt=\"Open In Colab\"/></a>"
      ]
    },
    {
      "cell_type": "markdown",
      "metadata": {
        "id": "_xr31Z7qQAwM"
      },
      "source": [
        "# **Deletion from the BST**\n",
        "\n",
        "First, we'll need some helper function.Let's discuss those first."
      ]
    },
    {
      "cell_type": "code",
      "metadata": {
        "id": "6obRcmJXRHHY"
      },
      "source": [
        "def find_root(self):\n",
        "   \"\"\"Find the absoulte root of the BST to which self belongs. Keep going up untill you reach no-parent node.\"\"\"\n",
        "\n",
        "   temp = self\n",
        "   while temp.parent is not None:\n",
        "     temp = temp.parent\n",
        "\n",
        "\n",
        "  return temp\n",
        "   # keep going up untill no parent ..... return that\n",
        "\n",
        "BST.find_root = find_root"
      ],
      "execution_count": null,
      "outputs": []
    },
    {
      "cell_type": "code",
      "metadata": {
        "id": "Xe4fDF_QSUNk"
      },
      "source": [
        "def find_min(self):\n",
        "  \"\"\"Find the mininum value starting from selg,\n",
        "     In BST, this is simple, keep going left untill no more left is left:\"\"\"\n",
        "\n",
        "     min_node = self\n",
        "\n",
        "     if self.left is not None:\n",
        "       min_node = find_min(self.left)\n",
        "\n",
        "    return min_node\n",
        "\n",
        "BST.find_min = find_min"
      ],
      "execution_count": 3,
      "outputs": []
    },
    {
      "cell_type": "code",
      "metadata": {
        "id": "mWzxEYSbRwz6"
      },
      "source": [
        "visualize_tree(b)\n",
        "print(\"Min is: \" , b.find_min().val)"
      ],
      "execution_count": 4,
      "outputs": []
    },
    {
      "cell_type": "code",
      "metadata": {
        "id": "OJRu5h6wR_gL"
      },
      "source": [
        "def set_for_parent(self, new_ref):\n",
        "  \"\"\"Disconnect self from parent and attach new_ref to parent in self's place.\"\"\"\n",
        "\n",
        "  if self.parent is not None:\n",
        "    return\n",
        "  \n",
        "  if self.parent.right == self:\n",
        "    self.parent.right = new_ref\n",
        "\n",
        "  if self.parent.left == self:\n",
        "    self.parent.left = new_ref\n",
        "\n",
        "BST.set_for_parent = set_for_parent"
      ],
      "execution_count": 5,
      "outputs": []
    },
    {
      "cell_type": "code",
      "metadata": {
        "id": "Vngpu9RGS5D_"
      },
      "source": [
        "def replace_with_node(self,node):\n",
        "  \"\"\"Replace self with node(which is a child). Make sure to fix the parent of the node and parent pointing to the node.\n",
        "     Assume that we have no children than other node.\"\"\"\n",
        "\n",
        "    self.set_for_parent(node)  # connect new node to parent on proper location\n",
        "    node.parent = self.parent  # set node's parent correctly\n",
        "    self.parent = None         # disconnect self from the parent\n",
        "    return node.find_root()    # find root again\n",
        "\n",
        "BST.replace_with_node = replace_with_node"
      ],
      "execution_count": 6,
      "outputs": []
    },
    {
      "cell_type": "code",
      "metadata": {
        "id": "7qJ204keUQYR"
      },
      "source": [
        "def delete(self, val):\n",
        "  # first ... if we are alone, no the root and no children plus the value mathces just return None\n",
        "  if self.parent is None and self.right is None and self.left is None and self.val == val:\n",
        "    return None\n",
        "\n",
        "  # we are the node to be deleted\n",
        "  if self.val == val:\n",
        "    # check if we are leaf\n",
        "    if self.right is None and self.left is None:\n",
        "      self.set_for_parent(None)    # set in place of self a None\n",
        "      return self.find_root()\n",
        "\n",
        "\n",
        "    # check if we have just a left node\n",
        "    if self.right is None:\n",
        "      return self.replace_with_node(self.left)\n",
        "\n",
        "    # check if we have just a right node\n",
        "    if self.left is None:\n",
        "      return self.replace_with_node(self.right)\n",
        "\n",
        "    # now we have both children. Find the successor and replace \"self\" with it.\n",
        "    # (Our succ is definitely in our right child and it can't have two chidren because left child will always be smaller\n",
        "    successor = self.right.find_min()\n",
        "\n",
        "    # copy successor's val here\n",
        "    self.val = successor.val\n",
        "\n",
        "    return self.right.delete(successor.val)\n",
        "    # ^ delete the successor node which is in out right child BST.\n",
        "    # ^ It's guaranteed that it's the simpler case since successor. CANNOT have a left\n",
        "\n",
        "  # we were not the node to be deleted , go to children\n",
        "  if val < self.val:\n",
        "    if self.left is not None:\n",
        "      return self.left.delete(val)\n",
        "    else:\n",
        "      return self.find_root()  # nothing to delete\n",
        "  else:\n",
        "      if self.right is not None:\n",
        "        return self.right.delete(val)\n",
        "      else:\n",
        "        return self.find_root()\n",
        "\n",
        "BST.delete = delete\n"
      ],
      "execution_count": null,
      "outputs": []
    },
    {
      "cell_type": "code",
      "metadata": {
        "id": "bf2lLTEMXxJw"
      },
      "source": [
        "b = BST(20)\n",
        "b.insert(21)\n",
        "b.insert(22)\n",
        "b.insert(23)"
      ],
      "execution_count": null,
      "outputs": []
    },
    {
      "cell_type": "code",
      "metadata": {
        "id": "8-OXvou4aECb"
      },
      "source": [
        "b = b.delete(23)"
      ],
      "execution_count": null,
      "outputs": []
    },
    {
      "cell_type": "code",
      "metadata": {
        "id": "G7_Lc2xbaLKd"
      },
      "source": [
        "b = b.delete(21)"
      ],
      "execution_count": null,
      "outputs": []
    },
    {
      "cell_type": "code",
      "metadata": {
        "id": "Z7L47o5oaQeL"
      },
      "source": [
        "b = b.delete(20)"
      ],
      "execution_count": null,
      "outputs": []
    },
    {
      "cell_type": "code",
      "metadata": {
        "id": "Q8Ro5Kt4aTfm"
      },
      "source": [
        ""
      ],
      "execution_count": null,
      "outputs": []
    }
  ]
}