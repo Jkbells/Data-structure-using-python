{
  "nbformat": 4,
  "nbformat_minor": 0,
  "metadata": {
    "colab": {
      "name": "Intro to Trees, Traversal, Arbitrary Functions on Nodes.ipynb",
      "provenance": [],
      "authorship_tag": "ABX9TyNjEEmzlieOX6D348r3+Lyh",
      "include_colab_link": true
    },
    "kernelspec": {
      "name": "python3",
      "display_name": "Python 3"
    },
    "language_info": {
      "name": "python"
    }
  },
  "cells": [
    {
      "cell_type": "markdown",
      "metadata": {
        "id": "view-in-github",
        "colab_type": "text"
      },
      "source": [
        "<a href=\"https://colab.research.google.com/github/Jkbells/Data-structure-using-python/blob/main/Intro_to_Trees%2C_Traversal%2C_Arbitrary_Functions_on_Nodes.ipynb\" target=\"_parent\"><img src=\"https://colab.research.google.com/assets/colab-badge.svg\" alt=\"Open In Colab\"/></a>"
      ]
    },
    {
      "cell_type": "markdown",
      "metadata": {
        "id": "Z_fUQ8Qv3PmD"
      },
      "source": [
        "# **Trees**\n",
        "\n",
        "A Tree is conceptually very similer to a linked list!\n",
        "\n"
      ]
    },
    {
      "cell_type": "code",
      "metadata": {
        "id": "_YtBHdEiUqqR"
      },
      "source": [
        "class TreeNode:\n",
        "  def __init__(self,x):\n",
        "    self.val = x\n",
        "    self.left = None\n",
        "    self.right = None"
      ],
      "execution_count": 19,
      "outputs": []
    },
    {
      "cell_type": "markdown",
      "metadata": {
        "id": "XWBqtoLj3yBG"
      },
      "source": [
        "# **Print Tree**"
      ]
    },
    {
      "cell_type": "code",
      "metadata": {
        "id": "8Ti5lulv3nkA"
      },
      "source": [
        "def print_tree(tree,level=0,label='.'):\n",
        "  print(' ' *(label*2) + label + ':' , tree.val)\n",
        "  for child, lbl in zip([tree.left,tree.right],['L' , 'R']):  # do for all children\n",
        "    if child is not None:\n",
        "      print_tree(child,level+1,lbl)"
      ],
      "execution_count": 16,
      "outputs": []
    },
    {
      "cell_type": "markdown",
      "metadata": {
        "id": "DSlzV0aU-cyS"
      },
      "source": [
        "# **Creating a Tree from an individual Node**"
      ]
    },
    {
      "cell_type": "code",
      "metadata": {
        "id": "ewqRymIB4LAj"
      },
      "source": [
        "# left Tree\n",
        "t1 = TreeNode(1)\n",
        "\n",
        "t1.left = TreeNode(3)\n",
        "t1.right = TreeNode(2)\n",
        "\n",
        "# visualize_tree(t1)  # this function needs a bit id extra (optional) code and setup\n",
        "print_tree(t1)  # you can use this function easily"
      ],
      "execution_count": null,
      "outputs": []
    },
    {
      "cell_type": "code",
      "metadata": {
        "id": "_1zEsQ7G_EL0"
      },
      "source": [
        "t1.left.left = TreeNode(5)\n",
        "t1.left.right = TreeNode(15)\n",
        "\n",
        "t1.right.right = TreeNode(55)\n",
        "t1.right.right.left = TreeNode(87)\n",
        "t1.right.right.right = TreeNode(101)\n",
        "t1.right.right.right.right = TreeNode(1019)\n",
        "t1.right.right.right.left = TreeNode(1019)\n",
        "\n",
        "# visualize_tree(t1)\n",
        "print_tree(t1)\n"
      ],
      "execution_count": null,
      "outputs": []
    },
    {
      "cell_type": "markdown",
      "metadata": {
        "id": "bSAO2JF1AopG"
      },
      "source": [
        "# **Tree Traversal - Depth First Search**"
      ]
    },
    {
      "cell_type": "code",
      "metadata": {
        "id": "RNPlyxJxADFF"
      },
      "source": [
        "# print all nodes on the tree\n",
        "def dfs(self):\n",
        "  print(self.val)\n",
        "\n",
        "  if self.left:\n",
        "    self.left.dfs()\n",
        "  if self.right:\n",
        "    self.right.dfs()\n",
        "\n",
        "TreeNode.dfs = dfs"
      ],
      "execution_count": 23,
      "outputs": []
    },
    {
      "cell_type": "code",
      "metadata": {
        "id": "98ukyDyqA-C3"
      },
      "source": [
        "def dfs_inorder(self):\n",
        "  if self.left:\n",
        "    self.left.dfs_inorder()\n",
        "\n",
        "  print(self.val)\n",
        "\n",
        "  if self.right:\n",
        "    self.right.dfs_inorder()\n",
        "\n",
        "TreeNode.dfs_inorder = dfs_inorder"
      ],
      "execution_count": 21,
      "outputs": []
    },
    {
      "cell_type": "code",
      "metadata": {
        "id": "f_xu_1GUCV7u"
      },
      "source": [
        "t1.dfs_inorder()"
      ],
      "execution_count": null,
      "outputs": []
    },
    {
      "cell_type": "code",
      "metadata": {
        "id": "M5JbT-X1CcIg"
      },
      "source": [
        "def dfs_postorder(self):\n",
        "  if self.left:\n",
        "    self.left.dfs_postorder()\n",
        "\n",
        "  if self.right:\n",
        "    self.right.dfs_postorder()\n",
        "\n",
        "  print(self.val)\n",
        "\n",
        "TreeNode.dfs_postorder = dfs_postorder"
      ],
      "execution_count": 24,
      "outputs": []
    },
    {
      "cell_type": "code",
      "metadata": {
        "id": "1kMigzNZC85m"
      },
      "source": [
        "t1.dfs_postorder()"
      ],
      "execution_count": null,
      "outputs": []
    },
    {
      "cell_type": "markdown",
      "metadata": {
        "id": "fVPV7yhYJgCc"
      },
      "source": [
        "# **Tree Traversal - Breadth First Search**"
      ]
    },
    {
      "cell_type": "code",
      "metadata": {
        "id": "PKNNK7k8DCSs",
        "outputId": "22e6cbb8-9144-4f50-d4e2-b7917707e694",
        "colab": {
          "base_uri": "https://localhost:8080/",
          "height": 167
        }
      },
      "source": [
        "visualize_tree(t1)"
      ],
      "execution_count": 26,
      "outputs": [
        {
          "output_type": "error",
          "ename": "NameError",
          "evalue": "ignored",
          "traceback": [
            "\u001b[0;31m---------------------------------------------------------------------------\u001b[0m",
            "\u001b[0;31mNameError\u001b[0m                                 Traceback (most recent call last)",
            "\u001b[0;32m<ipython-input-26-8c40cfcf8108>\u001b[0m in \u001b[0;36m<module>\u001b[0;34m()\u001b[0m\n\u001b[0;32m----> 1\u001b[0;31m \u001b[0mvisualize_tree\u001b[0m\u001b[0;34m(\u001b[0m\u001b[0mt1\u001b[0m\u001b[0;34m)\u001b[0m\u001b[0;34m\u001b[0m\u001b[0;34m\u001b[0m\u001b[0m\n\u001b[0m",
            "\u001b[0;31mNameError\u001b[0m: name 'visualize_tree' is not defined"
          ]
        }
      ]
    },
    {
      "cell_type": "code",
      "metadata": {
        "id": "jhO_T846Jm-s"
      },
      "source": [
        "def bfs(self):\n",
        "\n",
        "  to_visit = [self]\n",
        "\n",
        "  while to_visit:\n",
        "    current = to_visit.pop(0) # get the first one\n",
        "\n",
        "    print(current.val)\n",
        "\n",
        "    if current.left:\n",
        "      to_visit.append(current.left)\n",
        "    if current.right:\n",
        "      to_visit.append(current.right)\n",
        "\n",
        "TreeNode.bfs = bfs"
      ],
      "execution_count": 27,
      "outputs": []
    },
    {
      "cell_type": "code",
      "metadata": {
        "id": "CCeAQ0nVKdln"
      },
      "source": [
        "t1.bfs()"
      ],
      "execution_count": null,
      "outputs": []
    },
    {
      "cell_type": "markdown",
      "metadata": {
        "id": "QCyY2dU5Ku0S"
      },
      "source": [
        "# **Perform Arbitrary Tasks on All Nodes**"
      ]
    },
    {
      "cell_type": "code",
      "metadata": {
        "id": "4TfwIfmAKesL"
      },
      "source": [
        "def dfs_apply(self,fn):\n",
        "  fn(self)\n",
        "\n",
        "  if self.left:\n",
        "    self.left.dfs_apply(fn)\n",
        "  if self.right:\n",
        "    self.right.dfs_apply(fn)\n",
        "\n",
        "TreeNode.dfs_apply = dfs_apply"
      ],
      "execution_count": 29,
      "outputs": []
    },
    {
      "cell_type": "code",
      "metadata": {
        "id": "KoQ0JNIPLWT6"
      },
      "source": [
        "class performsum:\n",
        "  def __init__(self):\n",
        "    self.sum = 0\n",
        "\n",
        "  def process(self,node):\n",
        "    self.sum += node.val\n",
        "\n",
        "  def get_sum(self):\n",
        "    return self.sum\n",
        "\n",
        "  def reset_sum(self):\n",
        "    sefl.sum = 0\n",
        "\n",
        "p = performsum()"
      ],
      "execution_count": 30,
      "outputs": []
    },
    {
      "cell_type": "code",
      "metadata": {
        "id": "vQRTkfN_LobG"
      },
      "source": [
        "t1.dfs_apply(p.process)\n",
        "print(p.get_sum())"
      ],
      "execution_count": null,
      "outputs": []
    }
  ]
}