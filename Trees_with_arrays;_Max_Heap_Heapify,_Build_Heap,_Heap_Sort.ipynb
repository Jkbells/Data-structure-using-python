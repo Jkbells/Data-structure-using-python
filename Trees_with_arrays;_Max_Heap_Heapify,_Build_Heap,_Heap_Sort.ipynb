{
  "nbformat": 4,
  "nbformat_minor": 0,
  "metadata": {
    "colab": {
      "name": "Trees with arrays; Max Heap - Heapify, Build Heap, Heap Sort.ipynb",
      "provenance": [],
      "authorship_tag": "ABX9TyOg9L8ZCfZ7ImXMW/vEKVvN",
      "include_colab_link": true
    },
    "kernelspec": {
      "name": "python3",
      "display_name": "Python 3"
    },
    "language_info": {
      "name": "python"
    }
  },
  "cells": [
    {
      "cell_type": "markdown",
      "metadata": {
        "id": "view-in-github",
        "colab_type": "text"
      },
      "source": [
        "<a href=\"https://colab.research.google.com/github/jkbells/Data-structure-using-python/blob/main/Trees_with_arrays%3B_Max_Heap_Heapify%2C_Build_Heap%2C_Heap_Sort.ipynb\" target=\"_parent\"><img src=\"https://colab.research.google.com/assets/colab-badge.svg\" alt=\"Open In Colab\"/></a>"
      ]
    },
    {
      "cell_type": "markdown",
      "metadata": {
        "id": "qEugxNClmXhE"
      },
      "source": [
        "# **Heap Data Structure and Heap Sort**\n",
        "\n",
        "# **Heap Data Structure - MaxHeap and MinHeap**"
      ]
    },
    {
      "cell_type": "code",
      "metadata": {
        "colab": {
          "base_uri": "https://localhost:8080/"
        },
        "id": "rn0QbcZ8bYn7",
        "outputId": "1a42441e-6966-4dfc-888c-84fb0a4a804d"
      },
      "source": [
        "n = 8\n",
        "for i in range(n):\n",
        "  print(i)"
      ],
      "execution_count": 1,
      "outputs": [
        {
          "output_type": "stream",
          "text": [
            "0\n",
            "1\n",
            "2\n",
            "3\n",
            "4\n",
            "5\n",
            "6\n",
            "7\n"
          ],
          "name": "stdout"
        }
      ]
    },
    {
      "cell_type": "code",
      "metadata": {
        "id": "I9Zr26Z6mpr7"
      },
      "source": [
        "def heapify(lst,n,root):\n",
        "  \"\"\"Heapify the root element of lst which has n elements in total.\"\"\"\n",
        "\n",
        "  largest = root\n",
        "  l = 2*root + 1\n",
        "  r = 2*root + 2\n",
        "\n",
        "  if l < n and lst[l] > lst[largest]:\n",
        "    largest = l;\n",
        "\n",
        "  if r < n and lst[r] > lst[largest]:\n",
        "    largest = r\n",
        "\n",
        "  if largest != root:\n",
        "    lst[root], lst[largest] = lst[largest], lst[root]\n",
        "\n",
        "    heapify(lst, n ,largest)\n"
      ],
      "execution_count": 3,
      "outputs": []
    },
    {
      "cell_type": "code",
      "metadata": {
        "id": "Lcqfk66DneAU"
      },
      "source": [
        "def build_heap(lst):\n",
        "  \"\"\"Construct heap form any list by repeatedly applying heapify from bottom non-leaf\"\"\"\n",
        "\n",
        "  n = len(lst)\n",
        "\n",
        "  for i in reversed( range(n // 2) ):  # rest must be leaves, so , no need to heapify\n",
        "      # print(\"Heapifying:\" , lst[i])\n",
        "      heapify(lst,n,i)"
      ],
      "execution_count": 4,
      "outputs": []
    },
    {
      "cell_type": "code",
      "metadata": {
        "id": "Uyxjja4jqfX4"
      },
      "source": [
        "heap = [100, 5, 3, 2, 8, 15, 6, 102]"
      ],
      "execution_count": 5,
      "outputs": []
    },
    {
      "cell_type": "code",
      "metadata": {
        "colab": {
          "base_uri": "https://localhost:8080/"
        },
        "id": "OPF7_uYNqm8M",
        "outputId": "3bd49631-092d-4d9a-8c13-c6ced07b52ee"
      },
      "source": [
        "print(heap)\n",
        "build_heap(heap)\n",
        "print(heap)"
      ],
      "execution_count": 7,
      "outputs": [
        {
          "output_type": "stream",
          "text": [
            "[100, 5, 3, 2, 8, 15, 6, 102]\n",
            "[102, 100, 15, 5, 8, 3, 6, 2]\n"
          ],
          "name": "stdout"
        }
      ]
    },
    {
      "cell_type": "markdown",
      "metadata": {
        "id": "Pwa25f-styjW"
      },
      "source": [
        "# **Heap Sort**"
      ]
    },
    {
      "cell_type": "code",
      "metadata": {
        "id": "1Lu4lwvGt2VX"
      },
      "source": [
        "def heap_sort(lst):\n",
        "  \"\"\"Perform Heap Sort by building a Max Heap from the list and then repeatedly retried\"\"\"\n",
        "  n = len(lst)\n",
        "\n",
        "  # Build max Heap\n",
        "  build_heap(heap)\n",
        "\n",
        "\n",
        "  for i in reversed(range(n)):\n",
        "    # swap\n",
        "    lst[i], lst[0] = lst[0], lst[i]\n",
        "\n",
        "    #heapify root element again but only untill the ith element\n",
        "    heapify(lst,i,0)\n"
      ],
      "execution_count": 8,
      "outputs": []
    },
    {
      "cell_type": "code",
      "metadata": {
        "colab": {
          "base_uri": "https://localhost:8080/"
        },
        "id": "WtDrKmffuWgF",
        "outputId": "e278dd81-c37d-4976-8974-4b6f6d1df9cf"
      },
      "source": [
        "heap = [100, 5, 3, 2, 8, 15, 6, 102]\n",
        "print(heap)\n",
        "heap_sort(heap)\n",
        "print(heap)"
      ],
      "execution_count": 10,
      "outputs": [
        {
          "output_type": "stream",
          "text": [
            "[100, 5, 3, 2, 8, 15, 6, 102]\n",
            "[2, 3, 5, 6, 8, 15, 100, 102]\n"
          ],
          "name": "stdout"
        }
      ]
    },
    {
      "cell_type": "code",
      "metadata": {
        "id": "-A8Wkf1wuf2x"
      },
      "source": [
        ""
      ],
      "execution_count": null,
      "outputs": []
    }
  ]
}