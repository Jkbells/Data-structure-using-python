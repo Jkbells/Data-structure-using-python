{
  "nbformat": 4,
  "nbformat_minor": 0,
  "metadata": {
    "colab": {
      "name": "HashMaps.ipynb",
      "provenance": [],
      "collapsed_sections": [],
      "authorship_tag": "ABX9TyPfnCuZzgKMwtI/UHgGysZR",
      "include_colab_link": true
    },
    "kernelspec": {
      "name": "python3",
      "display_name": "Python 3"
    },
    "language_info": {
      "name": "python"
    }
  },
  "cells": [
    {
      "cell_type": "markdown",
      "metadata": {
        "id": "view-in-github",
        "colab_type": "text"
      },
      "source": [
        "<a href=\"https://colab.research.google.com/github/jkbells/Data-structure-using-python/blob/main/HashMaps.ipynb\" target=\"_parent\"><img src=\"https://colab.research.google.com/assets/colab-badge.svg\" alt=\"Open In Colab\"/></a>"
      ]
    },
    {
      "cell_type": "markdown",
      "metadata": {
        "id": "3F7O4zzGWX6N"
      },
      "source": [
        "# **Hash Tables**"
      ]
    },
    {
      "cell_type": "code",
      "metadata": {
        "id": "gI7nrwEpWagT"
      },
      "source": [
        "class HashMap:\n",
        "  def __init__(self):\n",
        "    self.size = 10\n",
        "    self.map = [None] * self.size"
      ],
      "execution_count": 14,
      "outputs": []
    },
    {
      "cell_type": "code",
      "metadata": {
        "id": "QTIAXIv9Wmqh"
      },
      "source": [
        "def _get_hash(self,key):\n",
        "  return key % self.size\n",
        "\n",
        "HashMap._get_hash = _get_hash"
      ],
      "execution_count": 15,
      "outputs": []
    },
    {
      "cell_type": "code",
      "metadata": {
        "id": "ZNnBsiK6Www0"
      },
      "source": [
        "def add(self, key, value):\n",
        "  key_hash = self._get_hash(key)\n",
        "  key_value = [key, value]\n",
        "\n",
        "  # insert or update: \"upsert\"\n",
        "\n",
        "  self.map[key_hash] = [key_value]   # notice the double list.  We'll get to it\n",
        "  return True\n",
        "HashMap.add = add"
      ],
      "execution_count": 16,
      "outputs": []
    },
    {
      "cell_type": "code",
      "metadata": {
        "id": "u0zRPCVLXWh8"
      },
      "source": [
        "def get(self, key):\n",
        "  key_hash = self._get_hash(key)\n",
        "  if self.map[key_hash] is not None:\n",
        "    for pair in self.map[key_hash]:\n",
        "      if pair[0] == key:\n",
        "        return pair[1]\n",
        "  raise keyError(str(key))\n",
        "\n",
        "HashMap.get = get"
      ],
      "execution_count": 17,
      "outputs": []
    },
    {
      "cell_type": "code",
      "metadata": {
        "id": "aM9ruNZSaJqh"
      },
      "source": [
        "def __str__(self):\n",
        "  ret = \"\"\n",
        "\n",
        "  for i, item in enumerate(self.map):\n",
        "    if item is not None:\n",
        "      ret += str(i) + \": \" + str(item) + \"\\n\"\n",
        "    return ret\n",
        "\n",
        "HashMap. str = str"
      ],
      "execution_count": 18,
      "outputs": []
    },
    {
      "cell_type": "code",
      "metadata": {
        "id": "_1vjPFw9CSBn"
      },
      "source": [
        "h = HashMap()"
      ],
      "execution_count": 19,
      "outputs": []
    },
    {
      "cell_type": "code",
      "metadata": {
        "colab": {
          "base_uri": "https://localhost:8080/"
        },
        "id": "ZKctRwBCCl_B",
        "outputId": "2e529157-9077-40ba-8efc-d01229672e0d"
      },
      "source": [
        "h.add(17, \"seventeen\")\n",
        "h.add(26, \"twenty six\")\n",
        "h.add(35, \"thirty five\")\n",
        "h.add(26, \"twenty six updated\")"
      ],
      "execution_count": 20,
      "outputs": [
        {
          "output_type": "execute_result",
          "data": {
            "text/plain": [
              "True"
            ]
          },
          "metadata": {},
          "execution_count": 20
        }
      ]
    },
    {
      "cell_type": "code",
      "metadata": {
        "colab": {
          "base_uri": "https://localhost:8080/"
        },
        "id": "xTt20RpSDKb5",
        "outputId": "5f672604-6314-4558-f8c8-30b288e37c1e"
      },
      "source": [
        "print(h)"
      ],
      "execution_count": 21,
      "outputs": [
        {
          "output_type": "stream",
          "text": [
            "<__main__.HashMap object at 0x7f7c89d6db10>\n"
          ],
          "name": "stdout"
        }
      ]
    },
    {
      "cell_type": "code",
      "metadata": {
        "colab": {
          "base_uri": "https://localhost:8080/"
        },
        "id": "kxKjtCtDDL-N",
        "outputId": "3bec5b6f-7204-414e-e216-f0e0592a4ec6"
      },
      "source": [
        "print(h.get(26))"
      ],
      "execution_count": 22,
      "outputs": [
        {
          "output_type": "stream",
          "text": [
            "twenty six updated\n"
          ],
          "name": "stdout"
        }
      ]
    },
    {
      "cell_type": "markdown",
      "metadata": {
        "id": "CJhRSqw0DrYj"
      },
      "source": [
        "# **Collisions And Avoidance**"
      ]
    },
    {
      "cell_type": "code",
      "metadata": {
        "colab": {
          "base_uri": "https://localhost:8080/"
        },
        "id": "5GKqlyj9DUwW",
        "outputId": "dc8f63a7-bcb2-4099-a35b-2b8d68ac68ac"
      },
      "source": [
        "h = HashMap()\n",
        "\n",
        "h.add(17, \"seventeen\")\n",
        "h.add(26, \"twenty six\")\n",
        "h.add(35, \"thirty five\")\n",
        "h.add(26, \"twenty six updated\")\n",
        "h.add(887, \"large number\")\n",
        "\n",
        "print(h)\n"
      ],
      "execution_count": 23,
      "outputs": [
        {
          "output_type": "stream",
          "text": [
            "<__main__.HashMap object at 0x7f7c89d79f50>\n"
          ],
          "name": "stdout"
        }
      ]
    },
    {
      "cell_type": "code",
      "metadata": {
        "id": "w6zWTqi1D-ce"
      },
      "source": [
        "def add(self,key,value):\n",
        "  key_hash = self._get_hash(key)\n",
        "  key_value = [key, value]\n",
        "\n",
        "  if self.map[key_hash] is None:\n",
        "    self.map[key_hash] = [key_value]\n",
        "    return True\n",
        "\n",
        "  else:\n",
        "    # check if it's an update\n",
        "    for pair in self.map[key_hash]:\n",
        "      if pair[0] == key:\n",
        "        print(\"updating:\", key)\n",
        "        pair[1] = value\n",
        "        return True\n",
        "\n",
        "   # nope, it's a collision: insert it\n",
        "    self.map[key_hash].append(key_value)\n",
        "    return True\n",
        "HashMap.add = add"
      ],
      "execution_count": 27,
      "outputs": []
    },
    {
      "cell_type": "code",
      "metadata": {
        "id": "WWwp3gTINDA7"
      },
      "source": [
        "h = HashMap()"
      ],
      "execution_count": 28,
      "outputs": []
    },
    {
      "cell_type": "code",
      "metadata": {
        "colab": {
          "base_uri": "https://localhost:8080/"
        },
        "id": "2m9L1ZCHNMD8",
        "outputId": "0bfaf92b-6c44-4603-a85c-3ebece19e904"
      },
      "source": [
        "h.add(17, \"seventeen\")\n",
        "h.add(26, \"twenty six\")\n",
        "h.add(35, \"thirty five\")\n",
        "h.add(26, \"twenty six updated\")\n",
        "h.add(887, \"large number\")\n",
        "\n",
        "print(h)\n"
      ],
      "execution_count": 29,
      "outputs": [
        {
          "output_type": "stream",
          "text": [
            "updating: 26\n",
            "<__main__.HashMap object at 0x7f7c85c8bd50>\n"
          ],
          "name": "stdout"
        }
      ]
    },
    {
      "cell_type": "code",
      "metadata": {
        "id": "j0i5LsR3NgjA"
      },
      "source": [
        "def delete(self,key):\n",
        "  key_hash = self._get_hash(key)\n",
        "\n",
        "  if self.map[key_hash] is None:\n",
        "    raise keyError(str(key))\n",
        "\n",
        "  for i in range(0, len(self.map[key_hash])):\n",
        "    if self.map[key_hash][i][0] == key:\n",
        "      self.map[key_hash].pop(i)\n",
        "      return True\n",
        "\n",
        "HashMap.delete = delete"
      ],
      "execution_count": 30,
      "outputs": []
    },
    {
      "cell_type": "code",
      "metadata": {
        "colab": {
          "base_uri": "https://localhost:8080/"
        },
        "id": "InVNUFZeN-0G",
        "outputId": "18f3b9e1-57fd-4ee4-9bcf-e1fc79e1919e"
      },
      "source": [
        "h.delete(17)"
      ],
      "execution_count": 31,
      "outputs": [
        {
          "output_type": "execute_result",
          "data": {
            "text/plain": [
              "True"
            ]
          },
          "metadata": {},
          "execution_count": 31
        }
      ]
    },
    {
      "cell_type": "code",
      "metadata": {
        "colab": {
          "base_uri": "https://localhost:8080/"
        },
        "id": "EIw-ud03OAQ2",
        "outputId": "13ade7fb-f74c-4caa-e233-c8200c870cb6"
      },
      "source": [
        "print(h)"
      ],
      "execution_count": 32,
      "outputs": [
        {
          "output_type": "stream",
          "text": [
            "<__main__.HashMap object at 0x7f7c85c8bd50>\n"
          ],
          "name": "stdout"
        }
      ]
    },
    {
      "cell_type": "code",
      "metadata": {
        "id": "AR5Ee26_OB-O"
      },
      "source": [
        ""
      ],
      "execution_count": null,
      "outputs": []
    }
  ]
}