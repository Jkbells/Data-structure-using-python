{
  "nbformat": 4,
  "nbformat_minor": 0,
  "metadata": {
    "colab": {
      "name": "Binary Search Trees - Definition, Insertion and Searching.ipynb",
      "provenance": [],
      "authorship_tag": "ABX9TyOXevZJ+NCkmBS/MuYyFhSu",
      "include_colab_link": true
    },
    "kernelspec": {
      "name": "python3",
      "display_name": "Python 3"
    },
    "language_info": {
      "name": "python"
    }
  },
  "cells": [
    {
      "cell_type": "markdown",
      "metadata": {
        "id": "view-in-github",
        "colab_type": "text"
      },
      "source": [
        "<a href=\"https://colab.research.google.com/github/Jkbells/Data-structure-using-python/blob/main/Binary_Search_Trees_Insertion.ipynb\" target=\"_parent\"><img src=\"https://colab.research.google.com/assets/colab-badge.svg\" alt=\"Open In Colab\"/></a>"
      ]
    },
    {
      "cell_type": "markdown",
      "metadata": {
        "id": "viI5qTOjWWtS"
      },
      "source": [
        "# **Binary search Tree**"
      ]
    },
    {
      "cell_type": "code",
      "metadata": {
        "id": "iYG_m_R_9A9H"
      },
      "source": [
        "class TreeNode:\n",
        "  def __init__(self,x):\n",
        "    self.val = x\n",
        "    self.left = None\n",
        "    self.right = None"
      ],
      "execution_count": 1,
      "outputs": []
    },
    {
      "cell_type": "markdown",
      "metadata": {
        "id": "BabqFzYtY45w"
      },
      "source": [
        "# **Insertion**"
      ]
    },
    {
      "cell_type": "code",
      "metadata": {
        "id": "5P84VGFPWqWN"
      },
      "source": [
        "class BST(TreeNode):\n",
        "  def __init__(self, val, parent = None):\n",
        "    super().__init__(val)\n",
        "    self.parent = parent\n",
        "\n",
        "\n",
        "  def insert(self,val):\n",
        "    if val < self.val:    # insert into left\n",
        "      if self.left is None:\n",
        "        new_node = BST(val, parent=self)\n",
        "        self.left = new_node\n",
        "      else:\n",
        "        self.left.insert(val)\n",
        "\n",
        "    else: # greater\n",
        "      if self.right is None:\n",
        "        self.right = BST(val,parent=self)\n",
        "      else:\n",
        "        self.right.insert(val)\n",
        "\n",
        "\n"
      ],
      "execution_count": 2,
      "outputs": []
    },
    {
      "cell_type": "code",
      "metadata": {
        "colab": {
          "base_uri": "https://localhost:8080/"
        },
        "id": "FiWcZsxYXgdu",
        "outputId": "c92147d3-4c17-449b-adbb-84d13389e4e0"
      },
      "source": [
        "b = BST(20)\n",
        "print(b.val)"
      ],
      "execution_count": 3,
      "outputs": [
        {
          "output_type": "stream",
          "text": [
            "20\n"
          ],
          "name": "stdout"
        }
      ]
    },
    {
      "cell_type": "code",
      "metadata": {
        "id": "Tg-7sDMoXlRg"
      },
      "source": [
        "b.insert(24)"
      ],
      "execution_count": 4,
      "outputs": []
    },
    {
      "cell_type": "code",
      "metadata": {
        "id": "nxMsy6AOYRZj"
      },
      "source": [
        "b.insert(10)"
      ],
      "execution_count": 5,
      "outputs": []
    },
    {
      "cell_type": "code",
      "metadata": {
        "id": "R-rldhgQYV0K"
      },
      "source": [
        "b.insert(1)"
      ],
      "execution_count": 6,
      "outputs": []
    },
    {
      "cell_type": "code",
      "metadata": {
        "id": "GLQ_i6r5YWvt"
      },
      "source": [
        ""
      ],
      "execution_count": null,
      "outputs": []
    }
  ]
}