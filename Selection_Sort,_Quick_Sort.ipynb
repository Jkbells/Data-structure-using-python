{
  "nbformat": 4,
  "nbformat_minor": 0,
  "metadata": {
    "colab": {
      "name": "Selection Sort, Quick Sort.ipynb",
      "provenance": [],
      "authorship_tag": "ABX9TyOH4KoBWBCIJwt2U6Gt0nfT",
      "include_colab_link": true
    },
    "kernelspec": {
      "name": "python3",
      "display_name": "Python 3"
    },
    "language_info": {
      "name": "python"
    }
  },
  "cells": [
    {
      "cell_type": "markdown",
      "metadata": {
        "id": "view-in-github",
        "colab_type": "text"
      },
      "source": [
        "<a href=\"https://colab.research.google.com/github/jkbells/Data-structure-using-python/blob/main/Selection_Sort%2C_Quick_Sort.ipynb\" target=\"_parent\"><img src=\"https://colab.research.google.com/assets/colab-badge.svg\" alt=\"Open In Colab\"/></a>"
      ]
    },
    {
      "cell_type": "markdown",
      "metadata": {
        "id": "9Vxz-ucSWGNy"
      },
      "source": [
        "# **Selection Sort**"
      ]
    },
    {
      "cell_type": "code",
      "metadata": {
        "id": "OqiE2w_FWKWQ"
      },
      "source": [
        "def selection_sort(l):\n",
        "  n = len(l)\n",
        "\n",
        "  # for each element in the list(starting form left)\n",
        "  for i in range(n):\n",
        "    min_idx = i   # find the minimun\n",
        "\n",
        "    # ----- in the rest of the list\n",
        "    for j in range(i+1, n):\n",
        "\n",
        "      if l[j] < l[min_idx]:\n",
        "        min_idx = j\n",
        "\n",
        "  # swap the minimum with current element, now we have (sorted stuff till i)\n",
        "  l[i] , l[min_idx] = l[min_idx], l[i]"
      ],
      "execution_count": null,
      "outputs": []
    },
    {
      "cell_type": "code",
      "metadata": {
        "colab": {
          "base_uri": "https://localhost:8080/"
        },
        "id": "XpNkgneOWxiG",
        "outputId": "ed27b5ba-f4e1-4919-f490-c20c85f1ee9f"
      },
      "source": [
        "l = [1, 2, 4, 1, 2, 5, 6, 1, 110, 15]\n",
        "selection_sort(l)\n",
        "print(l)"
      ],
      "execution_count": null,
      "outputs": [
        {
          "output_type": "stream",
          "text": [
            "[1, 2, 4, 1, 2, 5, 6, 1, 110, 15]\n"
          ],
          "name": "stdout"
        }
      ]
    },
    {
      "cell_type": "markdown",
      "metadata": {
        "id": "iYliTnybX2c3"
      },
      "source": [
        "# **Quick Sort**"
      ]
    },
    {
      "cell_type": "code",
      "metadata": {
        "id": "cL--Nlj2W7ou"
      },
      "source": [
        "import random\n",
        "\n",
        "def qsort(l , fst, lst):\n",
        "  if fst >= lst: \n",
        "    return\n",
        "  \n",
        "  i,j = fst , lst\n",
        "  pivot = l[random.randint(fst,lst)]\n",
        "\n",
        "  while i <= j:\n",
        "    while l[i] < pivot:\n",
        "      i += 1\n",
        "    while l[j] > pivot:\n",
        "      j -= 1\n",
        "\n",
        "    if i <= j:\n",
        "      l[i], l[j] = l[j], l[i]\n",
        "      i, j = i+1 , j-1\n",
        "\n",
        "  qsort(l, fst, j)\n",
        "  qsort(l , i, lst)"
      ],
      "execution_count": null,
      "outputs": []
    },
    {
      "cell_type": "code",
      "metadata": {
        "id": "u0YrNrINYjki"
      },
      "source": [
        "l = [1, 2, 4, 1, 2, 5, 5, 6, 1, 110, 15]\n",
        "qsort(l, 0 ,len(l)-1)"
      ],
      "execution_count": null,
      "outputs": []
    },
    {
      "cell_type": "code",
      "metadata": {
        "colab": {
          "base_uri": "https://localhost:8080/"
        },
        "id": "0n3O9hbhYrIt",
        "outputId": "1e5d98ad-b43a-4cd2-b672-842192ab929e"
      },
      "source": [
        "print(l)"
      ],
      "execution_count": null,
      "outputs": [
        {
          "output_type": "stream",
          "text": [
            "[1, 1, 1, 2, 2, 4, 5, 5, 6, 15, 110]\n"
          ],
          "name": "stdout"
        }
      ]
    },
    {
      "cell_type": "code",
      "metadata": {
        "id": "RtYCLzAzYryu"
      },
      "source": [
        ""
      ],
      "execution_count": null,
      "outputs": []
    }
  ]
}