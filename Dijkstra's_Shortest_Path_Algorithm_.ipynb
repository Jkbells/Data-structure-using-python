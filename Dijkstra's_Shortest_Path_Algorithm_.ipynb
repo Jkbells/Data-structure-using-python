{
  "nbformat": 4,
  "nbformat_minor": 0,
  "metadata": {
    "colab": {
      "name": " Dijkstra's Shortest Path Algorithm .ipynb",
      "provenance": [],
      "collapsed_sections": [],
      "authorship_tag": "ABX9TyPxGILKmoMN64cbhtP2Bx1R",
      "include_colab_link": true
    },
    "kernelspec": {
      "name": "python3",
      "display_name": "Python 3"
    },
    "language_info": {
      "name": "python"
    }
  },
  "cells": [
    {
      "cell_type": "markdown",
      "metadata": {
        "id": "view-in-github",
        "colab_type": "text"
      },
      "source": [
        "<a href=\"https://colab.research.google.com/github/jkbells/Data-structure-using-python/blob/main/Dijkstra's_Shortest_Path_Algorithm_.ipynb\" target=\"_parent\"><img src=\"https://colab.research.google.com/assets/colab-badge.svg\" alt=\"Open In Colab\"/></a>"
      ]
    },
    {
      "cell_type": "code",
      "metadata": {
        "colab": {
          "base_uri": "https://localhost:8080/"
        },
        "id": "Cnjnubs1vbqv",
        "outputId": "ed16565e-20de-441c-b0b9-074057e95c62"
      },
      "source": [
        "!pip install networkx     # install once"
      ],
      "execution_count": 36,
      "outputs": [
        {
          "output_type": "stream",
          "text": [
            "Requirement already satisfied: networkx in /usr/local/lib/python3.7/dist-packages (2.6.2)\n"
          ],
          "name": "stdout"
        }
      ]
    },
    {
      "cell_type": "code",
      "metadata": {
        "id": "ARhMzcHxsSZm"
      },
      "source": [
        "import networkx as nx\n",
        "import matplotlib.pyplot as plt\n",
        "\n",
        "# for notebook\n",
        "%matplotlib inline\n",
        "import warnings\n",
        "warnings.filterwarnings(\"ignore\")"
      ],
      "execution_count": 37,
      "outputs": []
    },
    {
      "cell_type": "code",
      "metadata": {
        "id": "Nqek9jyostTx"
      },
      "source": [
        "def draw_graph_with_nx(G):\n",
        "  pos = nx.spring_layout(G, iterations=200)\n",
        "  options = {'node_color': 'white', 'alpha': 1, 'node_size': 2000, 'width': 0.002,\n",
        "             'font_size': 25, 'arrow': True, 'edge_color' : 'brown',\n",
        "             'arrowstyle': 'Fancy, head_lenght=1, tail_width=4'\n",
        "            }\n",
        "\n",
        "  labels = nx.get_node_attributes(G, 'label')\n",
        "  weight_labels = nx.get_edge_attributes(G, 'weight')\n",
        "  nx.draw(G, pos, labels=labels, **options)\n",
        "  nx.draw_networkx_edge_labels(G, pos, edge_labels=weight_labels, font_size=15)\n",
        "  plt.show()"
      ],
      "execution_count": 38,
      "outputs": []
    },
    {
      "cell_type": "code",
      "metadata": {
        "id": "ZFxGQPwJs60S"
      },
      "source": [
        "class WeightedDiGraph:  \n",
        "  def __init__(self):\n",
        "    self.g = {}\n",
        "\n",
        "  def add_note(self,node):\n",
        "    if node in self.g:\n",
        "      raise ValueError(\"Node already in graph\")\n",
        "\n",
        "    self.g[node] = []\n",
        "\n",
        "  def add_edge(self, src, dest, weight):\n",
        "    if src not in self.g:\n",
        "      raise ValueError(\"Source node not in graph\")\n",
        "    if dest not in self.g:\n",
        "      raise ValueError(\"Destination node not in graph\")\n",
        "\n",
        "    nexts = self.g[src]\n",
        "    if dest in nexts:\n",
        "      return \n",
        "\n",
        "    nexts.append((dest, weight))\n",
        "\n",
        "  def draw_graph(self):\n",
        "    G = nx.DiGraph() \n",
        "    for src in self.g:\n",
        "      G.add_node(src, label=src)\n",
        "      for dest in self.g[src]:\n",
        "        G.add_edge(src, dest[0], weight=str(dest[1]))\n",
        "\n",
        "    draw_graph_with_nx(G)"
      ],
      "execution_count": 39,
      "outputs": []
    },
    {
      "cell_type": "code",
      "metadata": {
        "id": "BDmBucNUuKmV"
      },
      "source": [
        "g = WeightedDiGraph()\n",
        "\n",
        "nodes = ['a', 'b', 'c', 'd', 'e', 'f']\n",
        "\n",
        "for n in nodes:\n",
        "  g.add_node(n)\n",
        "\n",
        "edges = [\n",
        "         ('a', 'b' ,5),\n",
        "         ('a', 'c', 1),\n",
        "         ('b', 'c', 7),\n",
        "         ('b', 'd', 8),\n",
        "         ('c', 'd' ,3),\n",
        "         ('d', 'c', 4),\n",
        "         ('e', 'f' ,8),\n",
        "         ('f', 'c', 7)\n",
        "]\n",
        "\n",
        "for e in edges:\n",
        "  g.add_edge(e[0],e[1],e[2])"
      ],
      "execution_count": null,
      "outputs": []
    },
    {
      "cell_type": "code",
      "metadata": {
        "id": "Ey1xcXgTuevT"
      },
      "source": [
        "g = WeightedDiGraph()\n",
        "\n",
        "nodes = ['a', 'b', 'c', 'd', 'e']\n",
        "\n",
        "for n in nodes:\n",
        "  g.add_node(n)\n",
        "\n",
        "edges = [\n",
        "         ('a', 'b', 4),\n",
        "         ('a', 'c', 1),\n",
        "         ('b', 'd', 8),\n",
        "         ('c', 'e', 25),\n",
        "         ('e', 'd', 3),\n",
        "]\n",
        "\n",
        "for e in edges:\n",
        "  g.add_edge(e[0],e[1],e[2])"
      ],
      "execution_count": null,
      "outputs": []
    },
    {
      "cell_type": "code",
      "metadata": {
        "id": "uzP_zLYqxTl4"
      },
      "source": [
        "g = WeightedDiGraph()\n",
        "\n",
        "nodes = ['a', 'b', 'c', 'd', 'e', 'f', 'g', 'h']\n",
        "\n",
        "for n in nodes:\n",
        "  g.add_node(n)\n",
        "\n",
        "edges = [\n",
        "         ('a', 'b', 4),\n",
        "         ('a', 'c', 1),\n",
        "         ('b', 'd', 8),\n",
        "         ('c', 'e', 25),\n",
        "         ('e', 'd', 3),\n",
        "         ('d', 'f', 5),\n",
        "         ('d', 'g', 7),\n",
        "         ('d', 'h', 2),  # remove this first\n",
        "         ('g', 'h', 9),  # then this too\n",
        "]\n",
        "\n",
        "for e in edges:\n",
        "  g.add_edge(e[0], e[1] , e[2])"
      ],
      "execution_count": null,
      "outputs": []
    },
    {
      "cell_type": "code",
      "metadata": {
        "colab": {
          "base_uri": "https://localhost:8080/"
        },
        "id": "_cZnenjUw2ii",
        "outputId": "660e8f28-b4e1-40a3-f970-5b14381d18bb"
      },
      "source": [
        "import pprint\n",
        "pprint.pprint(g.g)"
      ],
      "execution_count": 43,
      "outputs": [
        {
          "output_type": "stream",
          "text": [
            "{}\n"
          ],
          "name": "stdout"
        }
      ]
    },
    {
      "cell_type": "markdown",
      "metadata": {
        "id": "ZWJbxEO3_taC"
      },
      "source": [
        "# **Shortest Path - Dijkstra's Algorithum**"
      ]
    },
    {
      "cell_type": "code",
      "metadata": {
        "id": "YKxbSbOwyvG6"
      },
      "source": [
        "# pronunciation of Dijkstra: "
      ],
      "execution_count": 44,
      "outputs": []
    },
    {
      "cell_type": "code",
      "metadata": {
        "id": "tKEYYLmw_eNc"
      },
      "source": [
        "def find_shortest_dijkstra(self, src):\n",
        "  # Mark all nodes unvisited and store them.\n",
        "  to_visit = list(self.g.keys())\n",
        "\n",
        "  print(\"To visit: \" + str(to_visit))\n",
        "\n",
        "  # set the distance to zero for our initial node and to infinity for other nodes.\n",
        "  inf = float('inf') # that's python for infinit\n",
        "  dists = {node: inf for node in to_visit }\n",
        "  dists[src] = 0\n",
        "  print(\"All distances\" + str(dists))\n",
        "\n",
        "  # let's loop\n",
        "  while to_visit:\n",
        "    print(\"-----------\")\n",
        "\n",
        "    # select the unvisited node with the smallest distance\n",
        "    # can't compare 'a' with 'b'. So, we compare dists['a'] with dists['b']\n",
        "    current = min(to_visit, key=lambda node: dists[nodes])\n",
        "    print(\"Current:\" + current)\n",
        "\n",
        "    # check to make sure min distance isn't infinity\n",
        "    if dists[current] == inf:\n",
        "      break\n",
        "\n",
        "    # Find unvisited neighbors for the current node\n",
        "    nexts = self.g[current]\n",
        "    unvisited_neighbors = []\n",
        "    for n in nexts:\n",
        "      if n[0] in to_visit:         # recall that n is e.g. ('b', 5)\n",
        "        unvisited_neighbors.append(n) \n",
        "\n",
        "    print(\"Unvisited neighbors of \" + current + \":\" + str(unvisited_neighbors)) \n",
        "\n",
        "    # calculate their distance through the current node\n",
        "    for n in unvisited_neighbors:\n",
        "      label = n[0]\n",
        "      dist_to = n[1]\n",
        "\n",
        "      old_distance = dists[label]\n",
        "      new_distance = dists[current] + dist_to\n",
        "\n",
        "      # see which is better: old best distance or this one\n",
        "      if new_distance < old_distance:\n",
        "        dists[label] = new_distance\n",
        "\n",
        "    print(\"All distance\" + str(dists))\n",
        "\n",
        "    # current is now visited\n",
        "    to_visit.remove(current)\n",
        "\n",
        "    # break     # break after each iteration for demo\n",
        "\n",
        "WeightedDiGraph.find_shortest_dijkstra = find_shortest_dijkstra"
      ],
      "execution_count": 45,
      "outputs": []
    },
    {
      "cell_type": "code",
      "metadata": {
        "colab": {
          "base_uri": "https://localhost:8080/"
        },
        "id": "F4MNYCEtEICL",
        "outputId": "3ec35770-03ac-46d3-9f9e-0394f24c35c7"
      },
      "source": [
        "g.find_shortest_dijkstra('a')"
      ],
      "execution_count": 46,
      "outputs": [
        {
          "output_type": "stream",
          "text": [
            "To visit: []\n",
            "All distances{'a': 0}\n"
          ],
          "name": "stdout"
        }
      ]
    },
    {
      "cell_type": "code",
      "metadata": {
        "id": "5nxi3FieENhG"
      },
      "source": [
        "def find_shortest_dijkstra(self, src, dest):\n",
        "  # Mark all nodes unvisited and store them\n",
        "  to_visit list(self.g.key())\n",
        "\n",
        "  print(\"To visit:\" + str(to_visit))\n",
        "\n",
        "  # set the distance to zero for our initial node and to infinity for other nodes.\n",
        "  inf = float('inf')   # that's python for infinity\n",
        "  dists = {node: inf for node in to_visit }\n",
        "  dists[src] = 0\n",
        "  print(\"All distances\" + str(dists))\n",
        "\n",
        "  best_paths = {}\n",
        "  best_paths[(src, src)] = [src]  # no move\n",
        "\n",
        "  # let's loop\n",
        "  while to_visit:\n",
        "    print('--')\n",
        "\n",
        "    # Select the unvisited node with the smallest distance\n",
        "    # can't compare 'a' with 'b' . so, we compare dists['a'] with dists['b]\n",
        "    current = min(to_visit, key=lambda node: dists[node])\n",
        "    print(\"Current:\" + current)\n",
        "\n",
        "    # check to make sure min distance isn't infinity\n",
        "    if dists[current] == inf:\n",
        "      break\n",
        "\n",
        "    # Find unvisited neighbors for the current node\n",
        "    nexts = self.g[current]\n",
        "    unvisited_neighbors = []\n",
        "    for n in nexts:\n",
        "      if n[0] in to_visit:\n",
        "        unvisited_neighbors.append(n)\n",
        "    \n",
        "    print(\"Unvisited neighbors of\" + current + \":\" + str(unvisited_neighbors))\n",
        "    # calculate their distance through the current node\n",
        "    for n in unvisited_neighbors:\n",
        "      label = n[0]\n",
        "      dist_to = n[1]\n",
        "\n",
        "      # get old best distance new distance\n",
        "      old_distance = dists[label]\n",
        "      new_distance = dists[current] + dist_to\n",
        "\n",
        "      # see if we are improving on old best\n",
        "      if new_distance < old_distance:\n",
        "        print(\"\\n Found new best path --- \")\n",
        "        dists[label] = new_distance\n",
        "\n",
        "\n",
        "        # also save path\n",
        "        # best way to get from src to label is src->current->label\n",
        "        path_to_current = [best_paths(src, current)][:]  # need a copy\n",
        "        best_path[(src, label)] = path_to_current\n",
        "        best_paths[(src, label)].append(label)\n",
        "        print(\"Previous best path to current:\", best_path[(src, current()])\n",
        "        print(\"Best path to:\", label,\":\", best_paths[(src, label)])\n",
        "\n",
        "      print(\"All distances\" + str(dists))\n",
        "\n",
        "      # current is now visited\n",
        "      to_visit.remove(current)\n",
        "\n",
        "      # break            # break after each iteration for demo\n",
        "    return best_paths[(src, dest)], dists[dest]\n",
        "\n",
        "\n",
        "WeightedDiGraph.find_shortest_dijkstra = find_shortest_dijkstra\n",
        "\n",
        "\n",
        "\n"
      ],
      "execution_count": null,
      "outputs": []
    },
    {
      "cell_type": "code",
      "metadata": {
        "id": "Dyb5Zgre024e"
      },
      "source": [
        "g.find_shortest_dijkstra('a', 'd')"
      ],
      "execution_count": null,
      "outputs": []
    },
    {
      "cell_type": "code",
      "metadata": {
        "id": "HNy0amDM1CBy"
      },
      "source": [
        ""
      ],
      "execution_count": null,
      "outputs": []
    }
  ]
}