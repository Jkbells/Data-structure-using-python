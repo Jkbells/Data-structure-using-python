{
  "nbformat": 4,
  "nbformat_minor": 0,
  "metadata": {
    "colab": {
      "name": "Untitled6.ipynb",
      "provenance": [],
      "collapsed_sections": [],
      "authorship_tag": "ABX9TyNibdyzo7fxiNOSbywgORg5",
      "include_colab_link": true
    },
    "kernelspec": {
      "name": "python3",
      "display_name": "Python 3"
    },
    "language_info": {
      "name": "python"
    }
  },
  "cells": [
    {
      "cell_type": "markdown",
      "metadata": {
        "id": "view-in-github",
        "colab_type": "text"
      },
      "source": [
        "<a href=\"https://colab.research.google.com/github/Mythical-stack/Data-structure-using-python/blob/main/Doubly-connected-LinkedList.ipynb\" target=\"_parent\"><img src=\"https://colab.research.google.com/assets/colab-badge.svg\" alt=\"Open In Colab\"/></a>"
      ]
    },
    {
      "cell_type": "markdown",
      "metadata": {
        "id": "zFMV0XiU4JMJ"
      },
      "source": [
        "# `# Doubly Linked List`\n",
        "\n",
        "A doubly-linked list is quite similer to a \"singly-linked\" list.Just need to add a prev pointer to all the nodes"
      ]
    },
    {
      "cell_type": "code",
      "metadata": {
        "id": "6Hc1YDfAjPXG"
      },
      "source": [
        "class Node:\n",
        "  def __init__(self,data=None):\n",
        "    self.val = data\n",
        "    self.next = None\n",
        "    self.prev = None #(change)\n",
        "\n",
        "class Doubly:\n",
        "  def __init__(self):\n",
        "    self.head = None"
      ],
      "execution_count": 2,
      "outputs": []
    },
    {
      "cell_type": "markdown",
      "metadata": {
        "id": "QOsFIvKc46Qc"
      },
      "source": [
        "# Push\n",
        "\n",
        "The push operation is also the same mostly.The new node only needs to be linked to the second-to-last node."
      ]
    },
    {
      "cell_type": "code",
      "metadata": {
        "id": "km0U9FFr5LFv"
      },
      "source": [
        "def push(self,val):\n",
        "  new_node = Node(val)\n",
        "\n",
        "  #no node currently\n",
        "  if self.head is None:\n",
        "    self.head = new_node\n",
        "    return\n",
        "\n",
        "  # otherwise,reach the end and then insert\n",
        "  last = self.head\n",
        "  while last.next is not None:\n",
        "    last = last.next\n",
        "\n",
        "  last.next = new_node\n",
        "  new_node.prev = last #(change)\n",
        "\n",
        "Doubly.push = push # we can add functions to classess even after definition"
      ],
      "execution_count": 3,
      "outputs": []
    },
    {
      "cell_type": "code",
      "metadata": {
        "id": "sJz4x5gA57yP"
      },
      "source": [
        "def __str__(self):\n",
        "  ret_str = '['\n",
        "  temp = self.head\n",
        "  while temp is not None: # or just while temp:\n",
        "    # print (temp.prev,temp,temp.next)\n",
        "\n",
        "    ret_str +=str(temp.val) + ','\n",
        "    temp = temp.next\n",
        "\n",
        "  ret_str = ret_str.rstrip(',')\n",
        "  ret_str += ']'\n",
        "  return ret_str\n",
        "\n",
        "Doubly.__str__ = __str__ "
      ],
      "execution_count": 4,
      "outputs": []
    },
    {
      "cell_type": "markdown",
      "metadata": {
        "id": "wyAzKaWD7Cyj"
      },
      "source": [
        "# Pop"
      ]
    },
    {
      "cell_type": "code",
      "metadata": {
        "id": "9mRNOzCb7GHi"
      },
      "source": [
        "def pop(self):\n",
        "  if self.head is None:\n",
        "    raise Exception (\"cannot pop.No value\")\n",
        "\n",
        "    # case where there is only one node\n",
        "    # reach the previous to last node\n",
        "\n",
        "    temp = self.head\n",
        "    while temp.next is not None:\n",
        "      prev = temp\n",
        "      temp = temp.next\n",
        "\n",
        "    val = temp.val\n",
        "    prev.next = None\n",
        "    return val\n",
        "  \n",
        "Doubly.pop = pop\n"
      ],
      "execution_count": 5,
      "outputs": []
    },
    {
      "cell_type": "code",
      "metadata": {
        "colab": {
          "base_uri": "https://localhost:8080/"
        },
        "id": "W3HmZz9v9pq7",
        "outputId": "702a4b6f-deeb-4198-a685-5b188d4a70d2"
      },
      "source": [
        "l = Doubly()\n",
        "l.push(1)\n",
        "l.push(2)\n",
        "l.push(3)\n",
        "\n",
        "print(l)\n",
        "print(\"pop\",l.pop())\n",
        "print(l)"
      ],
      "execution_count": 6,
      "outputs": [
        {
          "output_type": "stream",
          "text": [
            "[1,2,3]\n",
            "pop None\n",
            "[1,2,3]\n"
          ],
          "name": "stdout"
        }
      ]
    },
    {
      "cell_type": "markdown",
      "metadata": {
        "id": "cnOWaetW-d-y"
      },
      "source": [
        "# Insert"
      ]
    },
    {
      "cell_type": "code",
      "metadata": {
        "id": "kRIyBAb8-hCm"
      },
      "source": [
        "def insert(self,index,val):\n",
        "  new_node = Node(val)\n",
        "\n",
        "  #insertion at index 0 is different\n",
        "  if index == 0:\n",
        "    new_node.next = self.head\n",
        "\n",
        "    if self.head is not None:  #(change)\n",
        "      self.head.prev = new_node \n",
        "\n",
        "    self.head = new_node\n",
        "    return\n",
        "\n",
        "    # for other indices\n",
        "    temp = self.head\n",
        "\n",
        "    counter = 0\n",
        "    while temp is not None and counter < index:\n",
        "      prev = temp\n",
        "      temp = temp.next\n",
        "      counter += 1\n",
        "      # print(counter)\n",
        "\n",
        "    # print (\"wil insert after:\" , prev.val)\n",
        "    prev.next = new_node\n",
        "    new_node.prev = prev #(change)\n",
        "\n",
        "    new_node.next = temp\n",
        "    temp.prev = new_node #(change)\n",
        "\n",
        "Doubly.insert = insert"
      ],
      "execution_count": 9,
      "outputs": []
    },
    {
      "cell_type": "code",
      "metadata": {
        "colab": {
          "base_uri": "https://localhost:8080/"
        },
        "id": "q72SlzITksqs",
        "outputId": "86811116-2b36-4081-89ba-1d3f29ea7647"
      },
      "source": [
        "l = Doubly()\n",
        "l.push(1)\n",
        "l.push(3)\n",
        "l.insert(0,15)\n",
        "#l.insert(1,10)\n",
        "#l.insert(2,10)\n",
        "\n",
        "print(l)"
      ],
      "execution_count": 13,
      "outputs": [
        {
          "output_type": "stream",
          "text": [
            "[15,1,3]\n"
          ],
          "name": "stdout"
        }
      ]
    },
    {
      "cell_type": "code",
      "metadata": {
        "colab": {
          "base_uri": "https://localhost:8080/",
          "height": 35
        },
        "id": "tzxaOZz5lcYf",
        "outputId": "2e50d944-b2e3-4747-ada1-1df3dab86bc4"
      },
      "source": [
        "hex(id(None))"
      ],
      "execution_count": 16,
      "outputs": [
        {
          "output_type": "execute_result",
          "data": {
            "application/vnd.google.colaboratory.intrinsic+json": {
              "type": "string"
            },
            "text/plain": [
              "'0x55b6a6f3ddc0'"
            ]
          },
          "metadata": {
            "tags": []
          },
          "execution_count": 16
        }
      ]
    },
    {
      "cell_type": "code",
      "metadata": {
        "id": "6Zw3582emr57"
      },
      "source": [
        ""
      ],
      "execution_count": 16,
      "outputs": []
    }
  ]
}