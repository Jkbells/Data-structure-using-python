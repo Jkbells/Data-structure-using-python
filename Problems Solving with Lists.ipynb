{
  "nbformat": 4,
  "nbformat_minor": 0,
  "metadata": {
    "colab": {
      "name": "Untitled14.ipynb",
      "provenance": [],
      "authorship_tag": "ABX9TyO4vP84Qn71XcXuWP1fXiAT",
      "include_colab_link": true
    },
    "kernelspec": {
      "name": "python3",
      "display_name": "Python 3"
    },
    "language_info": {
      "name": "python"
    }
  },
  "cells": [
    {
      "cell_type": "markdown",
      "metadata": {
        "id": "view-in-github",
        "colab_type": "text"
      },
      "source": [
        "<a href=\"https://colab.research.google.com/github/jawmatlo/Data-structure-using-python/blob/main/Problems%20Solving%20with%20Lists.ipynb\" target=\"_parent\"><img src=\"https://colab.research.google.com/assets/colab-badge.svg\" alt=\"Open In Colab\"/></a>"
      ]
    },
    {
      "cell_type": "markdown",
      "metadata": {
        "id": "2QYaJDcyZ_6J"
      },
      "source": [
        "# **Example Problem**"
      ]
    },
    {
      "cell_type": "code",
      "metadata": {
        "id": "J3U_MyyxZ4Wb"
      },
      "source": [
        "class Node:\n",
        "  def __init__(self,data=None):\n",
        "    self.val = data\n",
        "    self.next = None\n",
        "\n",
        "class LinkedList:\n",
        "  def __init__(self):\n",
        "    self.head = None\n",
        "\n",
        "  def push(self, val):\n",
        "    new_node = Node(val)\n",
        "\n",
        "    # no node currently\n",
        "    if self.head is None:\n",
        "      self.head = new_node\n",
        "      return\n",
        "\n",
        "    # otherwise, reach the end then insert\n",
        "    last = self.head\n",
        "    while last.next is not None:\n",
        "      last = last.next\n",
        "\n",
        "    last.next = new_node\n",
        "\n",
        "  def pop(self):\n",
        "    if self.head is None:\n",
        "      raise Exception(\"cannot pop. No value\")\n",
        "\n",
        "    # case where there is only one node\n",
        "    if self.head.next is None:\n",
        "      print(\"case 1\")\n",
        "      val = self.head.val\n",
        "      self.head = None # automatic garbage collection\n",
        "      return val\n",
        "\n",
        "    # case where there is 2 or more nodes\n",
        "    # reach the previous to last node\n",
        "    temp = self.head\n",
        "    while temp.next is not None:\n",
        "      prev = temp\n",
        "      temp = temp.next\n",
        "      counter +=1\n",
        "\n",
        "    prev.next = temp.next\n",
        "    temp = None\n",
        "\n",
        "  def len(self):\n",
        "    counter = 0\n",
        "\n",
        "    temp = self.head\n",
        "    while temp is not None:    # or just while temp\n",
        "      count +=1  \n",
        "      temp = temp.next\n",
        "\n",
        "    return count\n",
        "\n",
        "  def __str__(self):\n",
        "    ret_str = '['\n",
        "    temp = self.head\n",
        "    while temp is not None:    # or just while temp: \n",
        "      ret_str += str(temp.val) + ', '\n",
        "      temp = temp.next\n",
        "\n",
        "    ret_str = ret_str.rstrip(', ')\n",
        "    ret_str += ']'\n",
        "    return ret_str"
      ],
      "execution_count": 10,
      "outputs": []
    },
    {
      "cell_type": "code",
      "metadata": {
        "colab": {
          "base_uri": "https://localhost:8080/"
        },
        "id": "Z82KjVKgaDHm",
        "outputId": "253c86cd-1af7-44d9-aab7-32365f5d170b"
      },
      "source": [
        "l = LinkedList()\n",
        "l.push(100)\n",
        "l.push(200)\n",
        "l.push(300)\n",
        "l.push(40)\n",
        "l.push(500)\n",
        "print(l)"
      ],
      "execution_count": 11,
      "outputs": [
        {
          "output_type": "stream",
          "text": [
            "[100, 200, 300, 40, 500]\n"
          ],
          "name": "stdout"
        }
      ]
    },
    {
      "cell_type": "markdown",
      "metadata": {
        "id": "91NZty8ZaL-m"
      },
      "source": [
        "# **Minimun and Maximum values in a List**"
      ]
    },
    {
      "cell_type": "code",
      "metadata": {
        "id": "NRUB9QE_aFlb"
      },
      "source": [
        "def find_min(self):\n",
        "  if self.head is None:\n",
        "    return None\n",
        "\n",
        "  # min is first one to start with\n",
        "  l_min = self.head.val\n",
        "\n",
        "  temp = self.head.next\n",
        "\n",
        "  while temp is not None:\n",
        "    if temp.val < l_min:\n",
        "        l_min = temp.val\n",
        "\n",
        "    temp = temp.next\n",
        "\n",
        "  return l_min\n",
        "\n",
        "LinkedList.find_min = find_min\n"
      ],
      "execution_count": 12,
      "outputs": []
    },
    {
      "cell_type": "code",
      "metadata": {
        "colab": {
          "base_uri": "https://localhost:8080/"
        },
        "id": "IcLF1Lg_aSr-",
        "outputId": "ecfc1527-0411-43d5-e161-ca85c9a920a3"
      },
      "source": [
        "l.find_min()"
      ],
      "execution_count": 13,
      "outputs": [
        {
          "output_type": "execute_result",
          "data": {
            "text/plain": [
              "40"
            ]
          },
          "metadata": {
            "tags": []
          },
          "execution_count": 13
        }
      ]
    },
    {
      "cell_type": "code",
      "metadata": {
        "id": "pPDEh9PvaVF4"
      },
      "source": [
        "def find_min(self):\n",
        "  if self.head is None:\n",
        "    return None\n",
        "  \n",
        "  # min is first one to start with\n",
        "  l_min = self.head.val\n",
        "  l_min_i = 0\n",
        "\n",
        "  temp = self.head.next\n",
        "  counter = 1             # keep track of counter\n",
        "\n",
        "  while temp is not None:\n",
        "     if temp.val < l_min:\n",
        "      l_min = temp.val\n",
        "      l_min_i = counter\n",
        "\n",
        "  temp = temp.next\n",
        "  counter += 1\n",
        "\n",
        "  return (l_min_i , l_min)     # return both the corresponding index and the actual mininum\n",
        "LinkedList.find_min = find_min"
      ],
      "execution_count": 14,
      "outputs": []
    },
    {
      "cell_type": "markdown",
      "metadata": {
        "id": "-_PQeL8oabkK"
      },
      "source": [
        "# **Remove the Minimun from the List**"
      ]
    },
    {
      "cell_type": "code",
      "metadata": {
        "id": "l_TUJHeYaYxY"
      },
      "source": [
        "def remove_min(self):\n",
        "  if self.head is None:\n",
        "    return \n",
        "  l_min_i = self.find_min()[0]\n",
        "\n",
        "  self.remove_at(l_min_i)\n",
        "\n",
        "LinkedList.remove_min = remove_min"
      ],
      "execution_count": 15,
      "outputs": []
    },
    {
      "cell_type": "code",
      "metadata": {
        "colab": {
          "base_uri": "https://localhost:8080/"
        },
        "id": "b1Ehqw0gahFx",
        "outputId": "464fceb4-40ad-4769-f192-13fccacefac2"
      },
      "source": [
        "print(l)"
      ],
      "execution_count": 16,
      "outputs": [
        {
          "output_type": "stream",
          "text": [
            "[100, 200, 300, 40, 500]\n"
          ],
          "name": "stdout"
        }
      ]
    },
    {
      "cell_type": "code",
      "metadata": {
        "id": "QCCiJQKNajAs"
      },
      "source": [
        "l.remove_min()\n",
        "print(l)"
      ],
      "execution_count": null,
      "outputs": []
    },
    {
      "cell_type": "markdown",
      "metadata": {
        "id": "85PPWChIa1W2"
      },
      "source": [
        "You can do the exact same thing for maximum instead of a mininum"
      ]
    },
    {
      "cell_type": "markdown",
      "metadata": {
        "id": "WIAe2-4la8r3"
      },
      "source": [
        "# **Find Third Highest**"
      ]
    },
    {
      "cell_type": "code",
      "metadata": {
        "id": "qUBVuq-JayeP"
      },
      "source": [
        "l = [101,202,303,404,5,6,10,20,1001]"
      ],
      "execution_count": null,
      "outputs": []
    },
    {
      "cell_type": "code",
      "metadata": {
        "id": "TGjXSW-lqQW-"
      },
      "source": [
        "def find_three_highest(l):\n",
        "  if len(l) < 3:\n",
        "    return None\n",
        "\n",
        "  h1 = l[0]\n",
        "  h2 = l[0]\n",
        "  h3 = l[0]\n",
        "\n",
        "  for i in l:\n",
        "    if i >= h1:\n",
        "      h3 = h2   # scootch over everybody!\n",
        "      h2 = h1\n",
        "      h1 = i\n",
        "\n",
        "    elif i >= h2:\n",
        "      h3 = h2\n",
        "      h2 = i\n",
        "\n",
        "    elif i >= h3:\n",
        "      h3 = i\n",
        "\n",
        "  return (h1,h2,h3)\n"
      ],
      "execution_count": null,
      "outputs": []
    },
    {
      "cell_type": "code",
      "metadata": {
        "id": "iN0jTP5DquVe"
      },
      "source": [
        "find_three_highest(l)"
      ],
      "execution_count": null,
      "outputs": []
    },
    {
      "cell_type": "code",
      "metadata": {
        "id": "IYfhXqcCrxKL"
      },
      "source": [
        "def find_third_highest(l):\n",
        "  return find_three_highest(l)[2]"
      ],
      "execution_count": null,
      "outputs": []
    },
    {
      "cell_type": "code",
      "metadata": {
        "id": "kSBvIEV-sR4a"
      },
      "source": [
        "find_third_highest(l)"
      ],
      "execution_count": null,
      "outputs": []
    },
    {
      "cell_type": "markdown",
      "metadata": {
        "id": "2_WwBX_OsUs0"
      },
      "source": [
        "# **Reverse a Linked List**\n",
        "\n",
        "This is an important interview Question and good for logic building"
      ]
    },
    {
      "cell_type": "code",
      "metadata": {
        "id": "zPwFv5hosTKb"
      },
      "source": [
        "def rev_list(self):\n",
        "  # empty list or one element list is already reversed\n",
        "  if self.head is None:\n",
        "    return \n",
        "  if self.head.next is None:\n",
        "    return\n",
        "  # at least two nodes\n",
        "  new_head = self._get_last()\n",
        "  processing = new_head\n",
        "\n",
        "  for i in range(self.len() - 1):  # loop n-1 times\n",
        "    temp = self.head\n",
        "    while temp.next != processing:\n",
        "      temp = temp.next     \n",
        "\n",
        "    processing.next = temp\n",
        "    # print(processing.val, \" -> \" , temp.val)\n",
        "    processing = processing.next  # move \"backwards\"\n",
        "\n",
        "  self.head.next = None # this is now the tail\n",
        "  self.head = new_head\n",
        "\n",
        "LinkedList.rev_list = rev_list"
      ],
      "execution_count": null,
      "outputs": []
    },
    {
      "cell_type": "code",
      "metadata": {
        "id": "Jzp0pjn7uYdv"
      },
      "source": [
        "l = LinkedList()\n",
        "l.push(100)\n",
        "l.push(200)\n",
        "l.push(300)\n",
        "l.push(40)\n",
        "l.push(500)\n",
        "print(l)"
      ],
      "execution_count": null,
      "outputs": []
    },
    {
      "cell_type": "code",
      "metadata": {
        "id": "_5kg9Xv_vGIp"
      },
      "source": [
        "l.rev_list()\n",
        "print(l)"
      ],
      "execution_count": null,
      "outputs": []
    },
    {
      "cell_type": "markdown",
      "metadata": {
        "id": "2bGKr7VLxZHj"
      },
      "source": [
        "# **Reversing a Doubly**\n",
        "\n",
        "Reversing a doubly connected linked list is easy! just set the prev to next and next to prev for all nodes! But make sure you keep track of head at the very beginning!\n",
        "\n",
        "# **Most Common Value in a List**\n",
        "\n",
        "We don't have to write the whole thing from scratch. We can use a data structure we already have!"
      ]
    },
    {
      "cell_type": "code",
      "metadata": {
        "id": "S3Yt3aWuxVZ8"
      },
      "source": [
        "l = LinkedList()\n",
        "l.push(1)\n",
        "l.push(2)\n",
        "l.push(3)\n",
        "l.push(1)\n",
        "l.push(2)\n",
        "l.push(500)\n",
        "l.push('the')\n",
        "print(l)"
      ],
      "execution_count": null,
      "outputs": []
    },
    {
      "cell_type": "code",
      "metadata": {
        "id": "5C2atHuKyLxB"
      },
      "source": [
        "def get_counts(self):\n",
        "  from collections import Counter\n",
        "  cnt = Counter()\n",
        "\n",
        "  temp = self.head\n",
        "\n",
        "  while temp is not None:\n",
        "    cnt[temp.val] += 1\n",
        "    temp = temp.next\n",
        "\n",
        "  return cnt.most_common()\n",
        "\n",
        "LinkedList.get_counts = get_counts"
      ],
      "execution_count": null,
      "outputs": []
    },
    {
      "cell_type": "code",
      "metadata": {
        "id": "hkZ6MLBlygZI"
      },
      "source": [
        "l.get_counts()"
      ],
      "execution_count": null,
      "outputs": []
    },
    {
      "cell_type": "code",
      "metadata": {
        "id": "wSUeNO1XyjJC"
      },
      "source": [
        "l.get_counts()[0]  # and the most common one is on the top of this list"
      ],
      "execution_count": null,
      "outputs": []
    },
    {
      "cell_type": "markdown",
      "metadata": {
        "id": "Ak0oJjK_0P3v"
      },
      "source": [
        "# **Append One List to Another**\n",
        "\n",
        "if you think before you leap, this is quite easy too."
      ]
    },
    {
      "cell_type": "code",
      "metadata": {
        "id": "JQtenx5_zV-B"
      },
      "source": [
        "l = LinkedList()\n",
        "l.push(1)\n",
        "l.push(2)\n",
        "l.push(3)\n",
        "print(l)\n",
        "\n",
        "m = LinkedList()\n",
        "m.push(4)\n",
        "m.push(4)\n",
        "m.push(6)\n",
        "print(m)"
      ],
      "execution_count": null,
      "outputs": []
    },
    {
      "cell_type": "code",
      "metadata": {
        "id": "NrZfK37O0keJ"
      },
      "source": [
        "def append_list(self,lst):\n",
        "  if self.head is None:\n",
        "    self.head - lst.head\n",
        "\n",
        "  last = self._get_last()\n",
        "  last.next = lst.head\n",
        "\n",
        "LinkedList.append_list = append_list"
      ],
      "execution_count": null,
      "outputs": []
    },
    {
      "cell_type": "code",
      "metadata": {
        "id": "x82RFkiP0032"
      },
      "source": [
        "l.append_list(m)"
      ],
      "execution_count": null,
      "outputs": []
    },
    {
      "cell_type": "code",
      "metadata": {
        "id": "iBRhtG-g03A9"
      },
      "source": [
        "print(l)"
      ],
      "execution_count": null,
      "outputs": []
    },
    {
      "cell_type": "code",
      "metadata": {
        "id": "9bxuL_T403-t"
      },
      "source": [
        "print(m)"
      ],
      "execution_count": null,
      "outputs": []
    },
    {
      "cell_type": "code",
      "metadata": {
        "id": "FHxvjOIx04l_"
      },
      "source": [
        "m.pop()"
      ],
      "execution_count": null,
      "outputs": []
    },
    {
      "cell_type": "code",
      "metadata": {
        "id": "akdwWiIK1I4G"
      },
      "source": [
        "print(l)   # this might or not be what you want to do!!"
      ],
      "execution_count": null,
      "outputs": []
    },
    {
      "cell_type": "markdown",
      "metadata": {
        "id": "PuNFoANi1ac-"
      },
      "source": [
        "# **Perform an Operation Over All Elements of a List**\n",
        "\n",
        "This might seem obvious but it's extremely important"
      ]
    },
    {
      "cell_type": "code",
      "metadata": {
        "id": "Vxv5LF3Y1PGT"
      },
      "source": [
        "def some_op(self):\n",
        "  temp = self.head\n",
        "\n",
        "  while temp is not None:\n",
        "    print(temp.val)\n",
        "    temp = temp.next\n",
        "\n",
        "LinkedList.some_op = some_op"
      ],
      "execution_count": null,
      "outputs": []
    },
    {
      "cell_type": "code",
      "metadata": {
        "id": "Md4gqIHZ1yLE"
      },
      "source": [
        "l.some_op()"
      ],
      "execution_count": null,
      "outputs": []
    },
    {
      "cell_type": "code",
      "metadata": {
        "id": "olZ9DLr61zNB"
      },
      "source": [
        ""
      ],
      "execution_count": null,
      "outputs": []
    }
  ]
}