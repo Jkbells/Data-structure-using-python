{
  "nbformat": 4,
  "nbformat_minor": 0,
  "metadata": {
    "colab": {
      "name": "Untitled9.ipynb",
      "provenance": [],
      "authorship_tag": "ABX9TyMbFqi8UK7louFPqYi4k1s/",
      "include_colab_link": true
    },
    "kernelspec": {
      "name": "python3",
      "display_name": "Python 3"
    },
    "language_info": {
      "name": "python"
    }
  },
  "cells": [
    {
      "cell_type": "markdown",
      "metadata": {
        "id": "view-in-github",
        "colab_type": "text"
      },
      "source": [
        "<a href=\"https://colab.research.google.com/github/MythicalStack/Data-structure-using-python/blob/main/Queue.ipynb\" target=\"_parent\"><img src=\"https://colab.research.google.com/assets/colab-badge.svg\" alt=\"Open In Colab\"/></a>"
      ]
    },
    {
      "cell_type": "markdown",
      "metadata": {
        "id": "3LywU4h5l1fK"
      },
      "source": [
        "# **Queue**\n",
        "\n",
        "Queue code is exactly the same as we did with c++"
      ]
    },
    {
      "cell_type": "code",
      "metadata": {
        "id": "d7TYJwZQl9Sd"
      },
      "source": [
        "class Queue:\n",
        "  def __init__(self):\n",
        "    self.size = 5\n",
        "    self.q = list(range(self.size)) # some dummy values\n",
        "    self.i = 0\n",
        "    self.o = 0\n",
        "\n",
        "    self.is_empty = True\n",
        "    self.is_full = False"
      ],
      "execution_count": 7,
      "outputs": []
    },
    {
      "cell_type": "code",
      "metadata": {
        "id": "Gu7AI_UTmTaV"
      },
      "source": [
        "q = Queue()"
      ],
      "execution_count": 8,
      "outputs": []
    },
    {
      "cell_type": "code",
      "metadata": {
        "id": "Fgpxx3lpmY4H"
      },
      "source": [
        "def _inc(self,idx):\n",
        "  if idx +1 == self.size:\n",
        "    return 0\n",
        "  else:\n",
        "    return idx+1\n",
        "Queue._inc = _inc"
      ],
      "execution_count": 21,
      "outputs": []
    },
    {
      "cell_type": "code",
      "metadata": {
        "id": "ljEqjSu7m33b"
      },
      "source": [
        "def enqueue(self,val):\n",
        "  if self.is_full:\n",
        "    raise indexError(\"Queue full.Cannot enqueue\")\n",
        "\n",
        "  self.q[self.i] = val\n",
        "  self.i = self._inc(self.i)\n",
        "\n",
        "  if self.i == self.o:\n",
        "    self.is_full = True\n",
        "\n",
        "  self.is_empty = False\n",
        "\n",
        "Queue.enqueue = enqueue\n"
      ],
      "execution_count": 22,
      "outputs": []
    },
    {
      "cell_type": "code",
      "metadata": {
        "id": "oVd7HTv4ntzD"
      },
      "source": [
        "def dequeue(self):\n",
        "  if self.is_empty:\n",
        "    raise IndexError(\"Queue empty.Cannot dequeue\")\n",
        "\n",
        "  ret = self.q[self.o]\n",
        "  self.o = self._inc(self.o)\n",
        "\n",
        "  if self.i == self.o:\n",
        "    self.is_empty = True\n",
        "\n",
        "  self.is_full = False\n",
        "  return ret\n",
        "\n",
        "Queue.dequeue = dequeue\n"
      ],
      "execution_count": 23,
      "outputs": []
    },
    {
      "cell_type": "code",
      "metadata": {
        "id": "2mTYzbNgor1F"
      },
      "source": [
        "def __str__(self):\n",
        "  return str(self.q)+ \",in :\" + str(self.i) + \", out: \" + str(self.o)\n",
        "Queue.__str__ = __str__"
      ],
      "execution_count": 24,
      "outputs": []
    },
    {
      "cell_type": "code",
      "metadata": {
        "colab": {
          "base_uri": "https://localhost:8080/"
        },
        "id": "XGTVugrLpJIM",
        "outputId": "816489d1-1e4d-4be1-a510-3938294eef41"
      },
      "source": [
        "q = Queue()\n",
        "q.enqueue(10)\n",
        "q.enqueue(20)\n",
        "q.enqueue(30)\n",
        "q.enqueue(40)\n",
        "q.enqueue(50)\n",
        "# q.enqueue(10)\n",
        "\n",
        "print(q)\n",
        "\n",
        "print(q.dequeue())\n",
        "q.enqueue(110)\n",
        "print(q)\n",
        "\n",
        "print(q.dequeue())\n",
        "print(q.dequeue())\n",
        "print(q.dequeue())\n",
        "print(q.dequeue())\n",
        "print(q.dequeue())\n",
        "# print(q.dequeue())\n",
        "\n",
        "print(q)"
      ],
      "execution_count": 25,
      "outputs": [
        {
          "output_type": "stream",
          "text": [
            "[10, 20, 30, 40, 50],in :0, out: 0\n",
            "10\n",
            "[110, 20, 30, 40, 50],in :1, out: 1\n",
            "20\n",
            "30\n",
            "40\n",
            "50\n",
            "110\n",
            "[110, 20, 30, 40, 50],in :1, out: 1\n"
          ],
          "name": "stdout"
        }
      ]
    },
    {
      "cell_type": "code",
      "metadata": {
        "id": "g0a6B1VxptZc"
      },
      "source": [
        ""
      ],
      "execution_count": null,
      "outputs": []
    }
  ]
}